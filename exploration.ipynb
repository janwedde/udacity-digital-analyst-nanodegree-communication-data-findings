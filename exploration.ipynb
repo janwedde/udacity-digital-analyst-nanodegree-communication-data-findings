{
 "cells": [
  {
   "cell_type": "markdown",
   "metadata": {},
   "source": [
    "# Ford GoBike System 02/19: Data Exploration \n",
    "## by Jan W.\n",
    "\n",
    "## Table of Contents\n",
    "\n",
    "- [Preliminary Wrangling](#wrangle)\n",
    "- [Univariate Exploration](#univariate)\n",
    "- [Bivariate Exloration](#bivariate)\n",
    "- [Multivariate Exploration](#multivariate)\n",
    "\n",
    "<a id=\"wrangle\"></a>\n",
    "## Preliminary Wrangling\n",
    "\n",
    "The Ford GoBike System data set includes information about individual rides made in a bike-sharing system covering the greater San Francisco Bay area in February 2019."
   ]
  },
  {
   "cell_type": "code",
   "execution_count": 877,
   "metadata": {},
   "outputs": [],
   "source": [
    "# import all packages and set plots to be embedded inline\n",
    "import numpy as np\n",
    "import pandas as pd\n",
    "import matplotlib.pyplot as plt\n",
    "import seaborn as sb\n",
    "\n",
    "%matplotlib inline"
   ]
  },
  {
   "cell_type": "code",
   "execution_count": 878,
   "metadata": {
    "scrolled": true
   },
   "outputs": [],
   "source": [
    "# gather data from vsc file and store it in a dataframe\n",
    "df = pd.read_csv('201902-fordgobike-tripdata.csv')"
   ]
  },
  {
   "cell_type": "markdown",
   "metadata": {},
   "source": [
    "### Assessing Data: Visually"
   ]
  },
  {
   "cell_type": "code",
   "execution_count": 879,
   "metadata": {
    "scrolled": true
   },
   "outputs": [
    {
     "data": {
      "text/html": [
       "<div>\n",
       "<style scoped>\n",
       "    .dataframe tbody tr th:only-of-type {\n",
       "        vertical-align: middle;\n",
       "    }\n",
       "\n",
       "    .dataframe tbody tr th {\n",
       "        vertical-align: top;\n",
       "    }\n",
       "\n",
       "    .dataframe thead th {\n",
       "        text-align: right;\n",
       "    }\n",
       "</style>\n",
       "<table border=\"1\" class=\"dataframe\">\n",
       "  <thead>\n",
       "    <tr style=\"text-align: right;\">\n",
       "      <th></th>\n",
       "      <th>duration_sec</th>\n",
       "      <th>start_time</th>\n",
       "      <th>end_time</th>\n",
       "      <th>start_station_id</th>\n",
       "      <th>start_station_name</th>\n",
       "      <th>start_station_latitude</th>\n",
       "      <th>start_station_longitude</th>\n",
       "      <th>end_station_id</th>\n",
       "      <th>end_station_name</th>\n",
       "      <th>end_station_latitude</th>\n",
       "      <th>end_station_longitude</th>\n",
       "      <th>bike_id</th>\n",
       "      <th>user_type</th>\n",
       "      <th>member_birth_year</th>\n",
       "      <th>member_gender</th>\n",
       "      <th>bike_share_for_all_trip</th>\n",
       "    </tr>\n",
       "  </thead>\n",
       "  <tbody>\n",
       "    <tr>\n",
       "      <th>0</th>\n",
       "      <td>52185</td>\n",
       "      <td>2019-02-28 17:32:10.1450</td>\n",
       "      <td>2019-03-01 08:01:55.9750</td>\n",
       "      <td>21.0</td>\n",
       "      <td>Montgomery St BART Station (Market St at 2nd St)</td>\n",
       "      <td>37.789625</td>\n",
       "      <td>-122.400811</td>\n",
       "      <td>13.0</td>\n",
       "      <td>Commercial St at Montgomery St</td>\n",
       "      <td>37.794231</td>\n",
       "      <td>-122.402923</td>\n",
       "      <td>4902</td>\n",
       "      <td>Customer</td>\n",
       "      <td>1984.0</td>\n",
       "      <td>Male</td>\n",
       "      <td>No</td>\n",
       "    </tr>\n",
       "    <tr>\n",
       "      <th>1</th>\n",
       "      <td>42521</td>\n",
       "      <td>2019-02-28 18:53:21.7890</td>\n",
       "      <td>2019-03-01 06:42:03.0560</td>\n",
       "      <td>23.0</td>\n",
       "      <td>The Embarcadero at Steuart St</td>\n",
       "      <td>37.791464</td>\n",
       "      <td>-122.391034</td>\n",
       "      <td>81.0</td>\n",
       "      <td>Berry St at 4th St</td>\n",
       "      <td>37.775880</td>\n",
       "      <td>-122.393170</td>\n",
       "      <td>2535</td>\n",
       "      <td>Customer</td>\n",
       "      <td>NaN</td>\n",
       "      <td>NaN</td>\n",
       "      <td>No</td>\n",
       "    </tr>\n",
       "    <tr>\n",
       "      <th>2</th>\n",
       "      <td>61854</td>\n",
       "      <td>2019-02-28 12:13:13.2180</td>\n",
       "      <td>2019-03-01 05:24:08.1460</td>\n",
       "      <td>86.0</td>\n",
       "      <td>Market St at Dolores St</td>\n",
       "      <td>37.769305</td>\n",
       "      <td>-122.426826</td>\n",
       "      <td>3.0</td>\n",
       "      <td>Powell St BART Station (Market St at 4th St)</td>\n",
       "      <td>37.786375</td>\n",
       "      <td>-122.404904</td>\n",
       "      <td>5905</td>\n",
       "      <td>Customer</td>\n",
       "      <td>1972.0</td>\n",
       "      <td>Male</td>\n",
       "      <td>No</td>\n",
       "    </tr>\n",
       "    <tr>\n",
       "      <th>3</th>\n",
       "      <td>36490</td>\n",
       "      <td>2019-02-28 17:54:26.0100</td>\n",
       "      <td>2019-03-01 04:02:36.8420</td>\n",
       "      <td>375.0</td>\n",
       "      <td>Grove St at Masonic Ave</td>\n",
       "      <td>37.774836</td>\n",
       "      <td>-122.446546</td>\n",
       "      <td>70.0</td>\n",
       "      <td>Central Ave at Fell St</td>\n",
       "      <td>37.773311</td>\n",
       "      <td>-122.444293</td>\n",
       "      <td>6638</td>\n",
       "      <td>Subscriber</td>\n",
       "      <td>1989.0</td>\n",
       "      <td>Other</td>\n",
       "      <td>No</td>\n",
       "    </tr>\n",
       "    <tr>\n",
       "      <th>4</th>\n",
       "      <td>1585</td>\n",
       "      <td>2019-02-28 23:54:18.5490</td>\n",
       "      <td>2019-03-01 00:20:44.0740</td>\n",
       "      <td>7.0</td>\n",
       "      <td>Frank H Ogawa Plaza</td>\n",
       "      <td>37.804562</td>\n",
       "      <td>-122.271738</td>\n",
       "      <td>222.0</td>\n",
       "      <td>10th Ave at E 15th St</td>\n",
       "      <td>37.792714</td>\n",
       "      <td>-122.248780</td>\n",
       "      <td>4898</td>\n",
       "      <td>Subscriber</td>\n",
       "      <td>1974.0</td>\n",
       "      <td>Male</td>\n",
       "      <td>Yes</td>\n",
       "    </tr>\n",
       "  </tbody>\n",
       "</table>\n",
       "</div>"
      ],
      "text/plain": [
       "   duration_sec                start_time                  end_time  \\\n",
       "0         52185  2019-02-28 17:32:10.1450  2019-03-01 08:01:55.9750   \n",
       "1         42521  2019-02-28 18:53:21.7890  2019-03-01 06:42:03.0560   \n",
       "2         61854  2019-02-28 12:13:13.2180  2019-03-01 05:24:08.1460   \n",
       "3         36490  2019-02-28 17:54:26.0100  2019-03-01 04:02:36.8420   \n",
       "4          1585  2019-02-28 23:54:18.5490  2019-03-01 00:20:44.0740   \n",
       "\n",
       "   start_station_id                                start_station_name  \\\n",
       "0              21.0  Montgomery St BART Station (Market St at 2nd St)   \n",
       "1              23.0                     The Embarcadero at Steuart St   \n",
       "2              86.0                           Market St at Dolores St   \n",
       "3             375.0                           Grove St at Masonic Ave   \n",
       "4               7.0                               Frank H Ogawa Plaza   \n",
       "\n",
       "   start_station_latitude  start_station_longitude  end_station_id  \\\n",
       "0               37.789625              -122.400811            13.0   \n",
       "1               37.791464              -122.391034            81.0   \n",
       "2               37.769305              -122.426826             3.0   \n",
       "3               37.774836              -122.446546            70.0   \n",
       "4               37.804562              -122.271738           222.0   \n",
       "\n",
       "                               end_station_name  end_station_latitude  \\\n",
       "0                Commercial St at Montgomery St             37.794231   \n",
       "1                            Berry St at 4th St             37.775880   \n",
       "2  Powell St BART Station (Market St at 4th St)             37.786375   \n",
       "3                        Central Ave at Fell St             37.773311   \n",
       "4                         10th Ave at E 15th St             37.792714   \n",
       "\n",
       "   end_station_longitude  bike_id   user_type  member_birth_year  \\\n",
       "0            -122.402923     4902    Customer             1984.0   \n",
       "1            -122.393170     2535    Customer                NaN   \n",
       "2            -122.404904     5905    Customer             1972.0   \n",
       "3            -122.444293     6638  Subscriber             1989.0   \n",
       "4            -122.248780     4898  Subscriber             1974.0   \n",
       "\n",
       "  member_gender bike_share_for_all_trip  \n",
       "0          Male                      No  \n",
       "1           NaN                      No  \n",
       "2          Male                      No  \n",
       "3         Other                      No  \n",
       "4          Male                     Yes  "
      ]
     },
     "execution_count": 879,
     "metadata": {},
     "output_type": "execute_result"
    }
   ],
   "source": [
    "df.head()\n",
    "# duration of ride is in seconds\n",
    "# start_time and end_time include date and time"
   ]
  },
  {
   "cell_type": "code",
   "execution_count": 880,
   "metadata": {},
   "outputs": [
    {
     "data": {
      "text/html": [
       "<div>\n",
       "<style scoped>\n",
       "    .dataframe tbody tr th:only-of-type {\n",
       "        vertical-align: middle;\n",
       "    }\n",
       "\n",
       "    .dataframe tbody tr th {\n",
       "        vertical-align: top;\n",
       "    }\n",
       "\n",
       "    .dataframe thead th {\n",
       "        text-align: right;\n",
       "    }\n",
       "</style>\n",
       "<table border=\"1\" class=\"dataframe\">\n",
       "  <thead>\n",
       "    <tr style=\"text-align: right;\">\n",
       "      <th></th>\n",
       "      <th>duration_sec</th>\n",
       "      <th>start_time</th>\n",
       "      <th>end_time</th>\n",
       "      <th>start_station_id</th>\n",
       "      <th>start_station_name</th>\n",
       "      <th>start_station_latitude</th>\n",
       "      <th>start_station_longitude</th>\n",
       "      <th>end_station_id</th>\n",
       "      <th>end_station_name</th>\n",
       "      <th>end_station_latitude</th>\n",
       "      <th>end_station_longitude</th>\n",
       "      <th>bike_id</th>\n",
       "      <th>user_type</th>\n",
       "      <th>member_birth_year</th>\n",
       "      <th>member_gender</th>\n",
       "      <th>bike_share_for_all_trip</th>\n",
       "    </tr>\n",
       "  </thead>\n",
       "  <tbody>\n",
       "    <tr>\n",
       "      <th>6302</th>\n",
       "      <td>463</td>\n",
       "      <td>2019-02-28 10:34:44.4630</td>\n",
       "      <td>2019-02-28 10:42:28.2350</td>\n",
       "      <td>81.0</td>\n",
       "      <td>Berry St at 4th St</td>\n",
       "      <td>37.775880</td>\n",
       "      <td>-122.393170</td>\n",
       "      <td>61.0</td>\n",
       "      <td>Howard St at 8th St</td>\n",
       "      <td>37.776513</td>\n",
       "      <td>-122.411306</td>\n",
       "      <td>966</td>\n",
       "      <td>Customer</td>\n",
       "      <td>1982.0</td>\n",
       "      <td>Male</td>\n",
       "      <td>No</td>\n",
       "    </tr>\n",
       "    <tr>\n",
       "      <th>12059</th>\n",
       "      <td>246</td>\n",
       "      <td>2019-02-27 18:01:40.9120</td>\n",
       "      <td>2019-02-27 18:05:47.3440</td>\n",
       "      <td>60.0</td>\n",
       "      <td>8th St at Ringold St</td>\n",
       "      <td>37.774520</td>\n",
       "      <td>-122.409449</td>\n",
       "      <td>100.0</td>\n",
       "      <td>Bryant St at 15th St</td>\n",
       "      <td>37.767100</td>\n",
       "      <td>-122.410662</td>\n",
       "      <td>5911</td>\n",
       "      <td>Subscriber</td>\n",
       "      <td>1982.0</td>\n",
       "      <td>Male</td>\n",
       "      <td>No</td>\n",
       "    </tr>\n",
       "    <tr>\n",
       "      <th>139571</th>\n",
       "      <td>270</td>\n",
       "      <td>2019-02-07 20:53:34.5880</td>\n",
       "      <td>2019-02-07 20:58:05.0090</td>\n",
       "      <td>30.0</td>\n",
       "      <td>San Francisco Caltrain (Townsend St at 4th St)</td>\n",
       "      <td>37.776598</td>\n",
       "      <td>-122.395282</td>\n",
       "      <td>47.0</td>\n",
       "      <td>4th St at Harrison St</td>\n",
       "      <td>37.780955</td>\n",
       "      <td>-122.399749</td>\n",
       "      <td>1564</td>\n",
       "      <td>Subscriber</td>\n",
       "      <td>1989.0</td>\n",
       "      <td>Male</td>\n",
       "      <td>No</td>\n",
       "    </tr>\n",
       "    <tr>\n",
       "      <th>113098</th>\n",
       "      <td>1425</td>\n",
       "      <td>2019-02-12 12:55:48.0850</td>\n",
       "      <td>2019-02-12 13:19:33.4050</td>\n",
       "      <td>243.0</td>\n",
       "      <td>Bancroft Way at College Ave</td>\n",
       "      <td>37.869360</td>\n",
       "      <td>-122.254337</td>\n",
       "      <td>154.0</td>\n",
       "      <td>Doyle St at 59th St</td>\n",
       "      <td>37.841924</td>\n",
       "      <td>-122.288045</td>\n",
       "      <td>5513</td>\n",
       "      <td>Subscriber</td>\n",
       "      <td>1996.0</td>\n",
       "      <td>Male</td>\n",
       "      <td>Yes</td>\n",
       "    </tr>\n",
       "    <tr>\n",
       "      <th>102308</th>\n",
       "      <td>304</td>\n",
       "      <td>2019-02-14 16:43:00.0180</td>\n",
       "      <td>2019-02-14 16:48:04.1870</td>\n",
       "      <td>350.0</td>\n",
       "      <td>8th St at Brannan St</td>\n",
       "      <td>37.771431</td>\n",
       "      <td>-122.405787</td>\n",
       "      <td>59.0</td>\n",
       "      <td>S Van Ness Ave at Market St</td>\n",
       "      <td>37.774814</td>\n",
       "      <td>-122.418954</td>\n",
       "      <td>6319</td>\n",
       "      <td>Subscriber</td>\n",
       "      <td>1978.0</td>\n",
       "      <td>Male</td>\n",
       "      <td>No</td>\n",
       "    </tr>\n",
       "    <tr>\n",
       "      <th>166536</th>\n",
       "      <td>542</td>\n",
       "      <td>2019-02-04 18:39:15.7210</td>\n",
       "      <td>2019-02-04 18:48:17.9760</td>\n",
       "      <td>356.0</td>\n",
       "      <td>Valencia St at Clinton Park</td>\n",
       "      <td>37.769188</td>\n",
       "      <td>-122.422285</td>\n",
       "      <td>141.0</td>\n",
       "      <td>Valencia St at Cesar Chavez St</td>\n",
       "      <td>37.747998</td>\n",
       "      <td>-122.420219</td>\n",
       "      <td>4739</td>\n",
       "      <td>Subscriber</td>\n",
       "      <td>1969.0</td>\n",
       "      <td>Male</td>\n",
       "      <td>No</td>\n",
       "    </tr>\n",
       "    <tr>\n",
       "      <th>70653</th>\n",
       "      <td>465</td>\n",
       "      <td>2019-02-19 18:06:44.0650</td>\n",
       "      <td>2019-02-19 18:14:29.9200</td>\n",
       "      <td>6.0</td>\n",
       "      <td>The Embarcadero at Sansome St</td>\n",
       "      <td>37.804770</td>\n",
       "      <td>-122.403234</td>\n",
       "      <td>15.0</td>\n",
       "      <td>San Francisco Ferry Building (Harry Bridges Pl...</td>\n",
       "      <td>37.795392</td>\n",
       "      <td>-122.394203</td>\n",
       "      <td>5761</td>\n",
       "      <td>Subscriber</td>\n",
       "      <td>1971.0</td>\n",
       "      <td>Male</td>\n",
       "      <td>No</td>\n",
       "    </tr>\n",
       "    <tr>\n",
       "      <th>74216</th>\n",
       "      <td>819</td>\n",
       "      <td>2019-02-19 11:05:20.1420</td>\n",
       "      <td>2019-02-19 11:18:59.2910</td>\n",
       "      <td>84.0</td>\n",
       "      <td>Duboce Park</td>\n",
       "      <td>37.769200</td>\n",
       "      <td>-122.433812</td>\n",
       "      <td>3.0</td>\n",
       "      <td>Powell St BART Station (Market St at 4th St)</td>\n",
       "      <td>37.786375</td>\n",
       "      <td>-122.404904</td>\n",
       "      <td>4738</td>\n",
       "      <td>Subscriber</td>\n",
       "      <td>1967.0</td>\n",
       "      <td>Male</td>\n",
       "      <td>No</td>\n",
       "    </tr>\n",
       "    <tr>\n",
       "      <th>135108</th>\n",
       "      <td>275</td>\n",
       "      <td>2019-02-08 15:39:16.3890</td>\n",
       "      <td>2019-02-08 15:43:51.4280</td>\n",
       "      <td>104.0</td>\n",
       "      <td>4th St at 16th St</td>\n",
       "      <td>37.767045</td>\n",
       "      <td>-122.390833</td>\n",
       "      <td>114.0</td>\n",
       "      <td>Rhode Island St at 17th St</td>\n",
       "      <td>37.764478</td>\n",
       "      <td>-122.402570</td>\n",
       "      <td>5399</td>\n",
       "      <td>Subscriber</td>\n",
       "      <td>1986.0</td>\n",
       "      <td>Male</td>\n",
       "      <td>No</td>\n",
       "    </tr>\n",
       "    <tr>\n",
       "      <th>36975</th>\n",
       "      <td>1044</td>\n",
       "      <td>2019-02-23 14:51:36.4640</td>\n",
       "      <td>2019-02-23 15:09:01.1740</td>\n",
       "      <td>377.0</td>\n",
       "      <td>Fell St at Stanyan St</td>\n",
       "      <td>37.771917</td>\n",
       "      <td>-122.453704</td>\n",
       "      <td>109.0</td>\n",
       "      <td>17th St at Valencia St</td>\n",
       "      <td>37.763316</td>\n",
       "      <td>-122.421904</td>\n",
       "      <td>6229</td>\n",
       "      <td>Customer</td>\n",
       "      <td>1993.0</td>\n",
       "      <td>Male</td>\n",
       "      <td>No</td>\n",
       "    </tr>\n",
       "    <tr>\n",
       "      <th>46496</th>\n",
       "      <td>290</td>\n",
       "      <td>2019-02-22 09:45:19.8830</td>\n",
       "      <td>2019-02-22 09:50:10.8000</td>\n",
       "      <td>200.0</td>\n",
       "      <td>2nd Ave at E 18th St</td>\n",
       "      <td>37.800214</td>\n",
       "      <td>-122.253810</td>\n",
       "      <td>201.0</td>\n",
       "      <td>10th St at Fallon St</td>\n",
       "      <td>37.797673</td>\n",
       "      <td>-122.262997</td>\n",
       "      <td>1324</td>\n",
       "      <td>Subscriber</td>\n",
       "      <td>1991.0</td>\n",
       "      <td>Male</td>\n",
       "      <td>No</td>\n",
       "    </tr>\n",
       "    <tr>\n",
       "      <th>153222</th>\n",
       "      <td>313</td>\n",
       "      <td>2019-02-06 13:17:29.4810</td>\n",
       "      <td>2019-02-06 13:22:43.2490</td>\n",
       "      <td>6.0</td>\n",
       "      <td>The Embarcadero at Sansome St</td>\n",
       "      <td>37.804770</td>\n",
       "      <td>-122.403234</td>\n",
       "      <td>16.0</td>\n",
       "      <td>Steuart St at Market St</td>\n",
       "      <td>37.794130</td>\n",
       "      <td>-122.394430</td>\n",
       "      <td>4626</td>\n",
       "      <td>Subscriber</td>\n",
       "      <td>1973.0</td>\n",
       "      <td>Male</td>\n",
       "      <td>No</td>\n",
       "    </tr>\n",
       "    <tr>\n",
       "      <th>42319</th>\n",
       "      <td>852</td>\n",
       "      <td>2019-02-22 17:33:23.5200</td>\n",
       "      <td>2019-02-22 17:47:35.8850</td>\n",
       "      <td>21.0</td>\n",
       "      <td>Montgomery St BART Station (Market St at 2nd St)</td>\n",
       "      <td>37.789625</td>\n",
       "      <td>-122.400811</td>\n",
       "      <td>74.0</td>\n",
       "      <td>Laguna St at Hayes St</td>\n",
       "      <td>37.776435</td>\n",
       "      <td>-122.426244</td>\n",
       "      <td>5967</td>\n",
       "      <td>Subscriber</td>\n",
       "      <td>1995.0</td>\n",
       "      <td>Male</td>\n",
       "      <td>No</td>\n",
       "    </tr>\n",
       "    <tr>\n",
       "      <th>29480</th>\n",
       "      <td>264</td>\n",
       "      <td>2019-02-25 07:24:39.5200</td>\n",
       "      <td>2019-02-25 07:29:03.8400</td>\n",
       "      <td>131.0</td>\n",
       "      <td>22nd St at Dolores St</td>\n",
       "      <td>37.755000</td>\n",
       "      <td>-122.425728</td>\n",
       "      <td>386.0</td>\n",
       "      <td>24th St at Bartlett St</td>\n",
       "      <td>37.752105</td>\n",
       "      <td>-122.419724</td>\n",
       "      <td>4398</td>\n",
       "      <td>Subscriber</td>\n",
       "      <td>1987.0</td>\n",
       "      <td>Male</td>\n",
       "      <td>Yes</td>\n",
       "    </tr>\n",
       "    <tr>\n",
       "      <th>102378</th>\n",
       "      <td>522</td>\n",
       "      <td>2019-02-14 16:33:13.8180</td>\n",
       "      <td>2019-02-14 16:41:56.0070</td>\n",
       "      <td>340.0</td>\n",
       "      <td>Harmon St at Adeline St</td>\n",
       "      <td>37.849735</td>\n",
       "      <td>-122.270582</td>\n",
       "      <td>246.0</td>\n",
       "      <td>Berkeley Civic Center</td>\n",
       "      <td>37.869060</td>\n",
       "      <td>-122.270556</td>\n",
       "      <td>4690</td>\n",
       "      <td>Subscriber</td>\n",
       "      <td>1991.0</td>\n",
       "      <td>Male</td>\n",
       "      <td>Yes</td>\n",
       "    </tr>\n",
       "    <tr>\n",
       "      <th>33666</th>\n",
       "      <td>954</td>\n",
       "      <td>2019-02-24 10:51:54.2910</td>\n",
       "      <td>2019-02-24 11:07:48.3730</td>\n",
       "      <td>11.0</td>\n",
       "      <td>Davis St at Jackson St</td>\n",
       "      <td>37.797280</td>\n",
       "      <td>-122.398436</td>\n",
       "      <td>116.0</td>\n",
       "      <td>Mississippi St at 17th St</td>\n",
       "      <td>37.764802</td>\n",
       "      <td>-122.394771</td>\n",
       "      <td>6220</td>\n",
       "      <td>Subscriber</td>\n",
       "      <td>1990.0</td>\n",
       "      <td>Female</td>\n",
       "      <td>No</td>\n",
       "    </tr>\n",
       "    <tr>\n",
       "      <th>111097</th>\n",
       "      <td>2520</td>\n",
       "      <td>2019-02-12 16:50:20.3590</td>\n",
       "      <td>2019-02-12 17:32:20.6320</td>\n",
       "      <td>171.0</td>\n",
       "      <td>Rockridge BART Station</td>\n",
       "      <td>37.844279</td>\n",
       "      <td>-122.251900</td>\n",
       "      <td>170.0</td>\n",
       "      <td>Telegraph Ave at 58th St</td>\n",
       "      <td>37.844493</td>\n",
       "      <td>-122.261351</td>\n",
       "      <td>4484</td>\n",
       "      <td>Subscriber</td>\n",
       "      <td>1970.0</td>\n",
       "      <td>Male</td>\n",
       "      <td>No</td>\n",
       "    </tr>\n",
       "    <tr>\n",
       "      <th>159110</th>\n",
       "      <td>795</td>\n",
       "      <td>2019-02-05 18:13:16.5420</td>\n",
       "      <td>2019-02-05 18:26:31.5770</td>\n",
       "      <td>126.0</td>\n",
       "      <td>Esprit Park</td>\n",
       "      <td>37.761634</td>\n",
       "      <td>-122.390648</td>\n",
       "      <td>147.0</td>\n",
       "      <td>29th St at Tiffany Ave</td>\n",
       "      <td>37.744067</td>\n",
       "      <td>-122.421472</td>\n",
       "      <td>4794</td>\n",
       "      <td>Subscriber</td>\n",
       "      <td>1976.0</td>\n",
       "      <td>Male</td>\n",
       "      <td>No</td>\n",
       "    </tr>\n",
       "    <tr>\n",
       "      <th>138787</th>\n",
       "      <td>286</td>\n",
       "      <td>2019-02-08 06:17:12.6130</td>\n",
       "      <td>2019-02-08 06:21:59.4960</td>\n",
       "      <td>219.0</td>\n",
       "      <td>Marston Campbell Park</td>\n",
       "      <td>37.809824</td>\n",
       "      <td>-122.280192</td>\n",
       "      <td>160.0</td>\n",
       "      <td>West Oakland BART Station</td>\n",
       "      <td>37.805318</td>\n",
       "      <td>-122.294837</td>\n",
       "      <td>5080</td>\n",
       "      <td>Subscriber</td>\n",
       "      <td>1989.0</td>\n",
       "      <td>Female</td>\n",
       "      <td>Yes</td>\n",
       "    </tr>\n",
       "    <tr>\n",
       "      <th>105014</th>\n",
       "      <td>291</td>\n",
       "      <td>2019-02-14 07:51:28.1080</td>\n",
       "      <td>2019-02-14 07:56:19.5100</td>\n",
       "      <td>62.0</td>\n",
       "      <td>Victoria Manalo Draves Park</td>\n",
       "      <td>37.777791</td>\n",
       "      <td>-122.406432</td>\n",
       "      <td>67.0</td>\n",
       "      <td>San Francisco Caltrain Station 2  (Townsend St...</td>\n",
       "      <td>37.776639</td>\n",
       "      <td>-122.395526</td>\n",
       "      <td>4417</td>\n",
       "      <td>Subscriber</td>\n",
       "      <td>1990.0</td>\n",
       "      <td>Female</td>\n",
       "      <td>No</td>\n",
       "    </tr>\n",
       "  </tbody>\n",
       "</table>\n",
       "</div>"
      ],
      "text/plain": [
       "        duration_sec                start_time                  end_time  \\\n",
       "6302             463  2019-02-28 10:34:44.4630  2019-02-28 10:42:28.2350   \n",
       "12059            246  2019-02-27 18:01:40.9120  2019-02-27 18:05:47.3440   \n",
       "139571           270  2019-02-07 20:53:34.5880  2019-02-07 20:58:05.0090   \n",
       "113098          1425  2019-02-12 12:55:48.0850  2019-02-12 13:19:33.4050   \n",
       "102308           304  2019-02-14 16:43:00.0180  2019-02-14 16:48:04.1870   \n",
       "166536           542  2019-02-04 18:39:15.7210  2019-02-04 18:48:17.9760   \n",
       "70653            465  2019-02-19 18:06:44.0650  2019-02-19 18:14:29.9200   \n",
       "74216            819  2019-02-19 11:05:20.1420  2019-02-19 11:18:59.2910   \n",
       "135108           275  2019-02-08 15:39:16.3890  2019-02-08 15:43:51.4280   \n",
       "36975           1044  2019-02-23 14:51:36.4640  2019-02-23 15:09:01.1740   \n",
       "46496            290  2019-02-22 09:45:19.8830  2019-02-22 09:50:10.8000   \n",
       "153222           313  2019-02-06 13:17:29.4810  2019-02-06 13:22:43.2490   \n",
       "42319            852  2019-02-22 17:33:23.5200  2019-02-22 17:47:35.8850   \n",
       "29480            264  2019-02-25 07:24:39.5200  2019-02-25 07:29:03.8400   \n",
       "102378           522  2019-02-14 16:33:13.8180  2019-02-14 16:41:56.0070   \n",
       "33666            954  2019-02-24 10:51:54.2910  2019-02-24 11:07:48.3730   \n",
       "111097          2520  2019-02-12 16:50:20.3590  2019-02-12 17:32:20.6320   \n",
       "159110           795  2019-02-05 18:13:16.5420  2019-02-05 18:26:31.5770   \n",
       "138787           286  2019-02-08 06:17:12.6130  2019-02-08 06:21:59.4960   \n",
       "105014           291  2019-02-14 07:51:28.1080  2019-02-14 07:56:19.5100   \n",
       "\n",
       "        start_station_id                                start_station_name  \\\n",
       "6302                81.0                                Berry St at 4th St   \n",
       "12059               60.0                              8th St at Ringold St   \n",
       "139571              30.0    San Francisco Caltrain (Townsend St at 4th St)   \n",
       "113098             243.0                       Bancroft Way at College Ave   \n",
       "102308             350.0                              8th St at Brannan St   \n",
       "166536             356.0                       Valencia St at Clinton Park   \n",
       "70653                6.0                     The Embarcadero at Sansome St   \n",
       "74216               84.0                                       Duboce Park   \n",
       "135108             104.0                                 4th St at 16th St   \n",
       "36975              377.0                             Fell St at Stanyan St   \n",
       "46496              200.0                              2nd Ave at E 18th St   \n",
       "153222               6.0                     The Embarcadero at Sansome St   \n",
       "42319               21.0  Montgomery St BART Station (Market St at 2nd St)   \n",
       "29480              131.0                             22nd St at Dolores St   \n",
       "102378             340.0                           Harmon St at Adeline St   \n",
       "33666               11.0                            Davis St at Jackson St   \n",
       "111097             171.0                            Rockridge BART Station   \n",
       "159110             126.0                                       Esprit Park   \n",
       "138787             219.0                             Marston Campbell Park   \n",
       "105014              62.0                       Victoria Manalo Draves Park   \n",
       "\n",
       "        start_station_latitude  start_station_longitude  end_station_id  \\\n",
       "6302                 37.775880              -122.393170            61.0   \n",
       "12059                37.774520              -122.409449           100.0   \n",
       "139571               37.776598              -122.395282            47.0   \n",
       "113098               37.869360              -122.254337           154.0   \n",
       "102308               37.771431              -122.405787            59.0   \n",
       "166536               37.769188              -122.422285           141.0   \n",
       "70653                37.804770              -122.403234            15.0   \n",
       "74216                37.769200              -122.433812             3.0   \n",
       "135108               37.767045              -122.390833           114.0   \n",
       "36975                37.771917              -122.453704           109.0   \n",
       "46496                37.800214              -122.253810           201.0   \n",
       "153222               37.804770              -122.403234            16.0   \n",
       "42319                37.789625              -122.400811            74.0   \n",
       "29480                37.755000              -122.425728           386.0   \n",
       "102378               37.849735              -122.270582           246.0   \n",
       "33666                37.797280              -122.398436           116.0   \n",
       "111097               37.844279              -122.251900           170.0   \n",
       "159110               37.761634              -122.390648           147.0   \n",
       "138787               37.809824              -122.280192           160.0   \n",
       "105014               37.777791              -122.406432            67.0   \n",
       "\n",
       "                                         end_station_name  \\\n",
       "6302                                  Howard St at 8th St   \n",
       "12059                                Bryant St at 15th St   \n",
       "139571                              4th St at Harrison St   \n",
       "113098                                Doyle St at 59th St   \n",
       "102308                        S Van Ness Ave at Market St   \n",
       "166536                     Valencia St at Cesar Chavez St   \n",
       "70653   San Francisco Ferry Building (Harry Bridges Pl...   \n",
       "74216        Powell St BART Station (Market St at 4th St)   \n",
       "135108                         Rhode Island St at 17th St   \n",
       "36975                              17th St at Valencia St   \n",
       "46496                                10th St at Fallon St   \n",
       "153222                            Steuart St at Market St   \n",
       "42319                               Laguna St at Hayes St   \n",
       "29480                              24th St at Bartlett St   \n",
       "102378                              Berkeley Civic Center   \n",
       "33666                           Mississippi St at 17th St   \n",
       "111097                           Telegraph Ave at 58th St   \n",
       "159110                             29th St at Tiffany Ave   \n",
       "138787                          West Oakland BART Station   \n",
       "105014  San Francisco Caltrain Station 2  (Townsend St...   \n",
       "\n",
       "        end_station_latitude  end_station_longitude  bike_id   user_type  \\\n",
       "6302               37.776513            -122.411306      966    Customer   \n",
       "12059              37.767100            -122.410662     5911  Subscriber   \n",
       "139571             37.780955            -122.399749     1564  Subscriber   \n",
       "113098             37.841924            -122.288045     5513  Subscriber   \n",
       "102308             37.774814            -122.418954     6319  Subscriber   \n",
       "166536             37.747998            -122.420219     4739  Subscriber   \n",
       "70653              37.795392            -122.394203     5761  Subscriber   \n",
       "74216              37.786375            -122.404904     4738  Subscriber   \n",
       "135108             37.764478            -122.402570     5399  Subscriber   \n",
       "36975              37.763316            -122.421904     6229    Customer   \n",
       "46496              37.797673            -122.262997     1324  Subscriber   \n",
       "153222             37.794130            -122.394430     4626  Subscriber   \n",
       "42319              37.776435            -122.426244     5967  Subscriber   \n",
       "29480              37.752105            -122.419724     4398  Subscriber   \n",
       "102378             37.869060            -122.270556     4690  Subscriber   \n",
       "33666              37.764802            -122.394771     6220  Subscriber   \n",
       "111097             37.844493            -122.261351     4484  Subscriber   \n",
       "159110             37.744067            -122.421472     4794  Subscriber   \n",
       "138787             37.805318            -122.294837     5080  Subscriber   \n",
       "105014             37.776639            -122.395526     4417  Subscriber   \n",
       "\n",
       "        member_birth_year member_gender bike_share_for_all_trip  \n",
       "6302               1982.0          Male                      No  \n",
       "12059              1982.0          Male                      No  \n",
       "139571             1989.0          Male                      No  \n",
       "113098             1996.0          Male                     Yes  \n",
       "102308             1978.0          Male                      No  \n",
       "166536             1969.0          Male                      No  \n",
       "70653              1971.0          Male                      No  \n",
       "74216              1967.0          Male                      No  \n",
       "135108             1986.0          Male                      No  \n",
       "36975              1993.0          Male                      No  \n",
       "46496              1991.0          Male                      No  \n",
       "153222             1973.0          Male                      No  \n",
       "42319              1995.0          Male                      No  \n",
       "29480              1987.0          Male                     Yes  \n",
       "102378             1991.0          Male                     Yes  \n",
       "33666              1990.0        Female                      No  \n",
       "111097             1970.0          Male                      No  \n",
       "159110             1976.0          Male                      No  \n",
       "138787             1989.0        Female                     Yes  \n",
       "105014             1990.0        Female                      No  "
      ]
     },
     "execution_count": 880,
     "metadata": {},
     "output_type": "execute_result"
    }
   ],
   "source": [
    "df.sample(20)"
   ]
  },
  {
   "cell_type": "markdown",
   "metadata": {},
   "source": [
    "### Assessing Data: Pragmatically"
   ]
  },
  {
   "cell_type": "code",
   "execution_count": 881,
   "metadata": {
    "scrolled": false
   },
   "outputs": [
    {
     "data": {
      "text/html": [
       "<div>\n",
       "<style scoped>\n",
       "    .dataframe tbody tr th:only-of-type {\n",
       "        vertical-align: middle;\n",
       "    }\n",
       "\n",
       "    .dataframe tbody tr th {\n",
       "        vertical-align: top;\n",
       "    }\n",
       "\n",
       "    .dataframe thead th {\n",
       "        text-align: right;\n",
       "    }\n",
       "</style>\n",
       "<table border=\"1\" class=\"dataframe\">\n",
       "  <thead>\n",
       "    <tr style=\"text-align: right;\">\n",
       "      <th></th>\n",
       "      <th>duration_sec</th>\n",
       "      <th>start_station_id</th>\n",
       "      <th>start_station_latitude</th>\n",
       "      <th>start_station_longitude</th>\n",
       "      <th>end_station_id</th>\n",
       "      <th>end_station_latitude</th>\n",
       "      <th>end_station_longitude</th>\n",
       "      <th>bike_id</th>\n",
       "      <th>member_birth_year</th>\n",
       "    </tr>\n",
       "  </thead>\n",
       "  <tbody>\n",
       "    <tr>\n",
       "      <th>count</th>\n",
       "      <td>183412.000000</td>\n",
       "      <td>183215.000000</td>\n",
       "      <td>183412.000000</td>\n",
       "      <td>183412.000000</td>\n",
       "      <td>183215.000000</td>\n",
       "      <td>183412.000000</td>\n",
       "      <td>183412.000000</td>\n",
       "      <td>183412.000000</td>\n",
       "      <td>175147.000000</td>\n",
       "    </tr>\n",
       "    <tr>\n",
       "      <th>mean</th>\n",
       "      <td>726.078435</td>\n",
       "      <td>138.590427</td>\n",
       "      <td>37.771223</td>\n",
       "      <td>-122.352664</td>\n",
       "      <td>136.249123</td>\n",
       "      <td>37.771427</td>\n",
       "      <td>-122.352250</td>\n",
       "      <td>4472.906375</td>\n",
       "      <td>1984.806437</td>\n",
       "    </tr>\n",
       "    <tr>\n",
       "      <th>std</th>\n",
       "      <td>1794.389780</td>\n",
       "      <td>111.778864</td>\n",
       "      <td>0.099581</td>\n",
       "      <td>0.117097</td>\n",
       "      <td>111.515131</td>\n",
       "      <td>0.099490</td>\n",
       "      <td>0.116673</td>\n",
       "      <td>1664.383394</td>\n",
       "      <td>10.116689</td>\n",
       "    </tr>\n",
       "    <tr>\n",
       "      <th>min</th>\n",
       "      <td>61.000000</td>\n",
       "      <td>3.000000</td>\n",
       "      <td>37.317298</td>\n",
       "      <td>-122.453704</td>\n",
       "      <td>3.000000</td>\n",
       "      <td>37.317298</td>\n",
       "      <td>-122.453704</td>\n",
       "      <td>11.000000</td>\n",
       "      <td>1878.000000</td>\n",
       "    </tr>\n",
       "    <tr>\n",
       "      <th>25%</th>\n",
       "      <td>325.000000</td>\n",
       "      <td>47.000000</td>\n",
       "      <td>37.770083</td>\n",
       "      <td>-122.412408</td>\n",
       "      <td>44.000000</td>\n",
       "      <td>37.770407</td>\n",
       "      <td>-122.411726</td>\n",
       "      <td>3777.000000</td>\n",
       "      <td>1980.000000</td>\n",
       "    </tr>\n",
       "    <tr>\n",
       "      <th>50%</th>\n",
       "      <td>514.000000</td>\n",
       "      <td>104.000000</td>\n",
       "      <td>37.780760</td>\n",
       "      <td>-122.398285</td>\n",
       "      <td>100.000000</td>\n",
       "      <td>37.781010</td>\n",
       "      <td>-122.398279</td>\n",
       "      <td>4958.000000</td>\n",
       "      <td>1987.000000</td>\n",
       "    </tr>\n",
       "    <tr>\n",
       "      <th>75%</th>\n",
       "      <td>796.000000</td>\n",
       "      <td>239.000000</td>\n",
       "      <td>37.797280</td>\n",
       "      <td>-122.286533</td>\n",
       "      <td>235.000000</td>\n",
       "      <td>37.797320</td>\n",
       "      <td>-122.288045</td>\n",
       "      <td>5502.000000</td>\n",
       "      <td>1992.000000</td>\n",
       "    </tr>\n",
       "    <tr>\n",
       "      <th>max</th>\n",
       "      <td>85444.000000</td>\n",
       "      <td>398.000000</td>\n",
       "      <td>37.880222</td>\n",
       "      <td>-121.874119</td>\n",
       "      <td>398.000000</td>\n",
       "      <td>37.880222</td>\n",
       "      <td>-121.874119</td>\n",
       "      <td>6645.000000</td>\n",
       "      <td>2001.000000</td>\n",
       "    </tr>\n",
       "  </tbody>\n",
       "</table>\n",
       "</div>"
      ],
      "text/plain": [
       "        duration_sec  start_station_id  start_station_latitude  \\\n",
       "count  183412.000000     183215.000000           183412.000000   \n",
       "mean      726.078435        138.590427               37.771223   \n",
       "std      1794.389780        111.778864                0.099581   \n",
       "min        61.000000          3.000000               37.317298   \n",
       "25%       325.000000         47.000000               37.770083   \n",
       "50%       514.000000        104.000000               37.780760   \n",
       "75%       796.000000        239.000000               37.797280   \n",
       "max     85444.000000        398.000000               37.880222   \n",
       "\n",
       "       start_station_longitude  end_station_id  end_station_latitude  \\\n",
       "count            183412.000000   183215.000000         183412.000000   \n",
       "mean               -122.352664      136.249123             37.771427   \n",
       "std                   0.117097      111.515131              0.099490   \n",
       "min                -122.453704        3.000000             37.317298   \n",
       "25%                -122.412408       44.000000             37.770407   \n",
       "50%                -122.398285      100.000000             37.781010   \n",
       "75%                -122.286533      235.000000             37.797320   \n",
       "max                -121.874119      398.000000             37.880222   \n",
       "\n",
       "       end_station_longitude        bike_id  member_birth_year  \n",
       "count          183412.000000  183412.000000      175147.000000  \n",
       "mean             -122.352250    4472.906375        1984.806437  \n",
       "std                 0.116673    1664.383394          10.116689  \n",
       "min              -122.453704      11.000000        1878.000000  \n",
       "25%              -122.411726    3777.000000        1980.000000  \n",
       "50%              -122.398279    4958.000000        1987.000000  \n",
       "75%              -122.288045    5502.000000        1992.000000  \n",
       "max              -121.874119    6645.000000        2001.000000  "
      ]
     },
     "execution_count": 881,
     "metadata": {},
     "output_type": "execute_result"
    }
   ],
   "source": [
    "df.describe()\n",
    "# duration_sec max is very high compared to mean\n",
    "# member_birth_year min is very low compared to mean\n",
    "# duration_sec max is very high compared to mean"
   ]
  },
  {
   "cell_type": "code",
   "execution_count": 882,
   "metadata": {
    "scrolled": true
   },
   "outputs": [
    {
     "data": {
      "image/png": "[encoded data removed]",
      "text/plain": [
       "<Figure size 576x360 with 1 Axes>"
      ]
     },
     "metadata": {
      "needs_background": "light"
     },
     "output_type": "display_data"
    }
   ],
   "source": [
    "# create plot to visualize outliers for birth year\n",
    "plt.figure(figsize = [8, 5])\n",
    "base_color = sb.color_palette()[0]\n",
    "sb.boxplot(data=df, x='member_birth_year', color=base_color);"
   ]
  },
  {
   "cell_type": "code",
   "execution_count": 883,
   "metadata": {},
   "outputs": [
    {
     "data": {
      "text/plain": [
       "count    183412.000000\n",
       "mean        726.078435\n",
       "std        1794.389780\n",
       "min          61.000000\n",
       "25%         325.000000\n",
       "50%         514.000000\n",
       "75%         796.000000\n",
       "max       85444.000000\n",
       "Name: duration_sec, dtype: float64"
      ]
     },
     "execution_count": 883,
     "metadata": {},
     "output_type": "execute_result"
    }
   ],
   "source": [
    "df.duration_sec.describe()"
   ]
  },
  {
   "cell_type": "code",
   "execution_count": 884,
   "metadata": {},
   "outputs": [
    {
     "data": {
      "image/png": "[encoded data removed]",
      "text/plain": [
       "<Figure size 576x360 with 1 Axes>"
      ]
     },
     "metadata": {
      "needs_background": "light"
     },
     "output_type": "display_data"
    }
   ],
   "source": [
    "# plot minute_sec \n",
    "plt.figure(figsize = [8, 5])\n",
    "sb.countplot(data=df, x='duration_sec', color=base_color);\n",
    "# distribution for duration_sec has long tail"
   ]
  },
  {
   "cell_type": "code",
   "execution_count": 885,
   "metadata": {},
   "outputs": [
    {
     "name": "stdout",
     "output_type": "stream",
     "text": [
      "<class 'pandas.core.frame.DataFrame'>\n",
      "RangeIndex: 183412 entries, 0 to 183411\n",
      "Data columns (total 16 columns):\n",
      " #   Column                   Non-Null Count   Dtype  \n",
      "---  ------                   --------------   -----  \n",
      " 0   duration_sec             183412 non-null  int64  \n",
      " 1   start_time               183412 non-null  object \n",
      " 2   end_time                 183412 non-null  object \n",
      " 3   start_station_id         183215 non-null  float64\n",
      " 4   start_station_name       183215 non-null  object \n",
      " 5   start_station_latitude   183412 non-null  float64\n",
      " 6   start_station_longitude  183412 non-null  float64\n",
      " 7   end_station_id           183215 non-null  float64\n",
      " 8   end_station_name         183215 non-null  object \n",
      " 9   end_station_latitude     183412 non-null  float64\n",
      " 10  end_station_longitude    183412 non-null  float64\n",
      " 11  bike_id                  183412 non-null  int64  \n",
      " 12  user_type                183412 non-null  object \n",
      " 13  member_birth_year        175147 non-null  float64\n",
      " 14  member_gender            175147 non-null  object \n",
      " 15  bike_share_for_all_trip  183412 non-null  object \n",
      "dtypes: float64(7), int64(2), object(7)\n",
      "memory usage: 22.4+ MB\n"
     ]
    }
   ],
   "source": [
    "df.info()\n",
    "# duration_sec is integer\n",
    "# start_time and end_time are objects\n",
    "# user_type is object\n",
    "# member_gender is object\n",
    "# member_birth_year is float\n",
    "# bike_id is integer\n",
    "# member_birth_year has nan entries\n",
    "# member_gender has nan entries\n",
    "# rows with unnecessary information"
   ]
  },
  {
   "cell_type": "code",
   "execution_count": 886,
   "metadata": {},
   "outputs": [
    {
     "data": {
      "text/plain": [
       "Male      130651\n",
       "Female     40844\n",
       "Other       3652\n",
       "Name: member_gender, dtype: int64"
      ]
     },
     "execution_count": 886,
     "metadata": {},
     "output_type": "execute_result"
    }
   ],
   "source": [
    "df.member_gender.value_counts()\n",
    "# gender contains Other"
   ]
  },
  {
   "cell_type": "code",
   "execution_count": 887,
   "metadata": {},
   "outputs": [
    {
     "data": {
      "text/plain": [
       "0"
      ]
     },
     "execution_count": 887,
     "metadata": {},
     "output_type": "execute_result"
    }
   ],
   "source": [
    "sum(df.duplicated())\n",
    "# no duplicated entries"
   ]
  },
  {
   "cell_type": "markdown",
   "metadata": {},
   "source": [
    "#### Quality\n",
    "\n",
    "- member_birth_year has nan entries\n",
    "- member_gender has nan entries\n",
    "- rows with unnecessary information\n",
    "- member_gender contains 'Other'\n",
    "- member_birth_year min is very low compared mean\n",
    "- duration_sec is in seconds\n",
    "- distribution for duration_sec has long tail\n",
    "- duration_sec is integer\n",
    "- start_time and end_time are objects\n",
    "- member_birth_year is float\n",
    "- user_type is object\n",
    "- member_gender is object\n",
    "- bike_id is integer"
   ]
  },
  {
   "cell_type": "markdown",
   "metadata": {},
   "source": [
    "#### Tidiness\n",
    "\n",
    "- start_time and end_time include date and time"
   ]
  },
  {
   "cell_type": "markdown",
   "metadata": {},
   "source": [
    "### Cleaning Data"
   ]
  },
  {
   "cell_type": "markdown",
   "metadata": {},
   "source": [
    "#### Missing Data"
   ]
  },
  {
   "cell_type": "code",
   "execution_count": 888,
   "metadata": {},
   "outputs": [],
   "source": [
    "# create copy of  original dataframe\n",
    "df_clean = df.copy()"
   ]
  },
  {
   "cell_type": "markdown",
   "metadata": {},
   "source": [
    "##### member_gender contains 'Other'\n",
    "##### member_gender has nan entries\n",
    "##### member_birth_year has nan entries\n",
    "##### member_birth_year is float\n",
    "##### member_birth_year min is very low compared mean\n",
    "##### rows with unnecessary information"
   ]
  },
  {
   "cell_type": "markdown",
   "metadata": {},
   "source": [
    "###### Define"
   ]
  },
  {
   "cell_type": "markdown",
   "metadata": {},
   "source": [
    "Drop entries with nan or 'Other'.\n",
    "Calcuate age based on birth year, drop entries with age > 60 years and convert datatype to integer.\n",
    "Drop columns with unnecessary information."
   ]
  },
  {
   "cell_type": "markdown",
   "metadata": {},
   "source": [
    "###### Code"
   ]
  },
  {
   "cell_type": "code",
   "execution_count": 889,
   "metadata": {},
   "outputs": [],
   "source": [
    "# drop nan or 'other' entries\n",
    "df_clean.drop(df_clean[df_clean['member_gender'].isnull() == True].index, inplace = True)\n",
    "df_clean.drop(df_clean[df_clean['member_gender'] == \"Other\"].index, inplace = True)\n",
    "df_clean.drop(df_clean[df_clean['member_birth_year'].isnull() == True].index, inplace = True)\n",
    "\n",
    "# calculate age \n",
    "df_clean['member_age'] = 2021 - df_clean['member_birth_year']\n",
    "\n",
    "# convert datatype for member_age to integer\n",
    "df_clean['member_age'] = df_clean['member_age'].astype(int)"
   ]
  },
  {
   "cell_type": "code",
   "execution_count": 890,
   "metadata": {
    "scrolled": false
   },
   "outputs": [
    {
     "data": {
      "image/png": "[encoded data removed]",
      "text/plain": [
       "<Figure size 576x360 with 1 Axes>"
      ]
     },
     "metadata": {
      "needs_background": "light"
     },
     "output_type": "display_data"
    }
   ],
   "source": [
    "# create plot to visualize outliers for members age\n",
    "plt.figure(figsize = [8, 5])\n",
    "base_color = sb.color_palette()[0]\n",
    "sb.boxplot(data=df_clean, x='member_age', color=base_color);"
   ]
  },
  {
   "cell_type": "code",
   "execution_count": 891,
   "metadata": {},
   "outputs": [],
   "source": [
    "# drop entries member age > 60\n",
    "df_clean = df_clean.query('member_age <= 60')"
   ]
  },
  {
   "cell_type": "code",
   "execution_count": 892,
   "metadata": {},
   "outputs": [],
   "source": [
    "# drop unnceessary columns with unnecessary information\n",
    "df_clean = df_clean.drop(['start_station_id', \n",
    "                          'start_station_name', \n",
    "                          'start_station_latitude', \n",
    "                          'start_station_longitude',\n",
    "                          'end_station_id',\n",
    "                          'end_station_name',\n",
    "                          'end_station_latitude',\n",
    "                          'end_station_longitude',\n",
    "                          'member_birth_year'], axis = 1)"
   ]
  },
  {
   "cell_type": "markdown",
   "metadata": {},
   "source": [
    "###### Test"
   ]
  },
  {
   "cell_type": "code",
   "execution_count": 893,
   "metadata": {
    "scrolled": true
   },
   "outputs": [
    {
     "data": {
      "text/html": [
       "<div>\n",
       "<style scoped>\n",
       "    .dataframe tbody tr th:only-of-type {\n",
       "        vertical-align: middle;\n",
       "    }\n",
       "\n",
       "    .dataframe tbody tr th {\n",
       "        vertical-align: top;\n",
       "    }\n",
       "\n",
       "    .dataframe thead th {\n",
       "        text-align: right;\n",
       "    }\n",
       "</style>\n",
       "<table border=\"1\" class=\"dataframe\">\n",
       "  <thead>\n",
       "    <tr style=\"text-align: right;\">\n",
       "      <th></th>\n",
       "      <th>duration_sec</th>\n",
       "      <th>start_time</th>\n",
       "      <th>end_time</th>\n",
       "      <th>bike_id</th>\n",
       "      <th>user_type</th>\n",
       "      <th>member_gender</th>\n",
       "      <th>bike_share_for_all_trip</th>\n",
       "      <th>member_age</th>\n",
       "    </tr>\n",
       "  </thead>\n",
       "  <tbody>\n",
       "    <tr>\n",
       "      <th>0</th>\n",
       "      <td>52185</td>\n",
       "      <td>2019-02-28 17:32:10.1450</td>\n",
       "      <td>2019-03-01 08:01:55.9750</td>\n",
       "      <td>4902</td>\n",
       "      <td>Customer</td>\n",
       "      <td>Male</td>\n",
       "      <td>No</td>\n",
       "      <td>37</td>\n",
       "    </tr>\n",
       "    <tr>\n",
       "      <th>2</th>\n",
       "      <td>61854</td>\n",
       "      <td>2019-02-28 12:13:13.2180</td>\n",
       "      <td>2019-03-01 05:24:08.1460</td>\n",
       "      <td>5905</td>\n",
       "      <td>Customer</td>\n",
       "      <td>Male</td>\n",
       "      <td>No</td>\n",
       "      <td>49</td>\n",
       "    </tr>\n",
       "    <tr>\n",
       "      <th>4</th>\n",
       "      <td>1585</td>\n",
       "      <td>2019-02-28 23:54:18.5490</td>\n",
       "      <td>2019-03-01 00:20:44.0740</td>\n",
       "      <td>4898</td>\n",
       "      <td>Subscriber</td>\n",
       "      <td>Male</td>\n",
       "      <td>Yes</td>\n",
       "      <td>47</td>\n",
       "    </tr>\n",
       "    <tr>\n",
       "      <th>6</th>\n",
       "      <td>1147</td>\n",
       "      <td>2019-02-28 23:55:35.1040</td>\n",
       "      <td>2019-03-01 00:14:42.5880</td>\n",
       "      <td>3803</td>\n",
       "      <td>Subscriber</td>\n",
       "      <td>Female</td>\n",
       "      <td>No</td>\n",
       "      <td>38</td>\n",
       "    </tr>\n",
       "    <tr>\n",
       "      <th>7</th>\n",
       "      <td>1615</td>\n",
       "      <td>2019-02-28 23:41:06.7660</td>\n",
       "      <td>2019-03-01 00:08:02.7560</td>\n",
       "      <td>6329</td>\n",
       "      <td>Subscriber</td>\n",
       "      <td>Male</td>\n",
       "      <td>No</td>\n",
       "      <td>32</td>\n",
       "    </tr>\n",
       "  </tbody>\n",
       "</table>\n",
       "</div>"
      ],
      "text/plain": [
       "   duration_sec                start_time                  end_time  bike_id  \\\n",
       "0         52185  2019-02-28 17:32:10.1450  2019-03-01 08:01:55.9750     4902   \n",
       "2         61854  2019-02-28 12:13:13.2180  2019-03-01 05:24:08.1460     5905   \n",
       "4          1585  2019-02-28 23:54:18.5490  2019-03-01 00:20:44.0740     4898   \n",
       "6          1147  2019-02-28 23:55:35.1040  2019-03-01 00:14:42.5880     3803   \n",
       "7          1615  2019-02-28 23:41:06.7660  2019-03-01 00:08:02.7560     6329   \n",
       "\n",
       "    user_type member_gender bike_share_for_all_trip  member_age  \n",
       "0    Customer          Male                      No          37  \n",
       "2    Customer          Male                      No          49  \n",
       "4  Subscriber          Male                     Yes          47  \n",
       "6  Subscriber        Female                      No          38  \n",
       "7  Subscriber          Male                      No          32  "
      ]
     },
     "execution_count": 893,
     "metadata": {},
     "output_type": "execute_result"
    }
   ],
   "source": [
    "df_clean.head()"
   ]
  },
  {
   "cell_type": "code",
   "execution_count": 894,
   "metadata": {
    "scrolled": true
   },
   "outputs": [
    {
     "name": "stdout",
     "output_type": "stream",
     "text": [
      "<class 'pandas.core.frame.DataFrame'>\n",
      "Int64Index: 166598 entries, 0 to 183411\n",
      "Data columns (total 8 columns):\n",
      " #   Column                   Non-Null Count   Dtype \n",
      "---  ------                   --------------   ----- \n",
      " 0   duration_sec             166598 non-null  int64 \n",
      " 1   start_time               166598 non-null  object\n",
      " 2   end_time                 166598 non-null  object\n",
      " 3   bike_id                  166598 non-null  int64 \n",
      " 4   user_type                166598 non-null  object\n",
      " 5   member_gender            166598 non-null  object\n",
      " 6   bike_share_for_all_trip  166598 non-null  object\n",
      " 7   member_age               166598 non-null  int64 \n",
      "dtypes: int64(3), object(5)\n",
      "memory usage: 11.4+ MB\n"
     ]
    }
   ],
   "source": [
    "df_clean.info()"
   ]
  },
  {
   "cell_type": "code",
   "execution_count": 895,
   "metadata": {
    "scrolled": true
   },
   "outputs": [
    {
     "data": {
      "text/plain": [
       "Male      126461\n",
       "Female     40137\n",
       "Name: member_gender, dtype: int64"
      ]
     },
     "execution_count": 895,
     "metadata": {},
     "output_type": "execute_result"
    }
   ],
   "source": [
    "df_clean.member_gender.value_counts()"
   ]
  },
  {
   "cell_type": "markdown",
   "metadata": {},
   "source": [
    "#### Tidiness"
   ]
  },
  {
   "cell_type": "markdown",
   "metadata": {},
   "source": [
    "##### start_time and end_time include date and time\n",
    "##### start_time and end_time are objects"
   ]
  },
  {
   "cell_type": "markdown",
   "metadata": {},
   "source": [
    "###### Define"
   ]
  },
  {
   "cell_type": "markdown",
   "metadata": {},
   "source": [
    "Set datatype to datetime, create columns for start_date, end_date, start_day, start_hour, set datatypes and drop start_time and end_time."
   ]
  },
  {
   "cell_type": "markdown",
   "metadata": {},
   "source": [
    "###### Code"
   ]
  },
  {
   "cell_type": "code",
   "execution_count": 896,
   "metadata": {},
   "outputs": [],
   "source": [
    "# set datatype to datetime\n",
    "df_clean['start_time'] = pd.to_datetime(df_clean['start_time'])\n",
    "df_clean['end_time'] = pd.to_datetime(df_clean['end_time'])\n",
    "\n",
    "# create columns\n",
    "df_clean['start_date'] = df_clean.start_time.dt.strftime('%Y-%m-%d')\n",
    "df_clean['end_date'] = df_clean.end_time.dt.strftime('%Y-%m-%d')\n",
    "df_clean['start_hour'] = df_clean.start_time.dt.strftime('%H')\n",
    "df_clean['start_day'] = df_clean.start_time.dt.strftime('%A')\n",
    "\n",
    "# set datatypes\n",
    "df_clean['start_date'] = pd.to_datetime(df_clean['start_date'])\n",
    "df_clean['end_date'] = pd.to_datetime(df_clean['end_date'])\n",
    "df_clean['start_hour'] = df_clean['start_hour'].astype(int)\n",
    "\n",
    "# drop start_time and end_time\n",
    "df_clean = df_clean.drop(['start_time', 'end_time'], axis = 1)"
   ]
  },
  {
   "cell_type": "markdown",
   "metadata": {},
   "source": [
    "###### Test"
   ]
  },
  {
   "cell_type": "code",
   "execution_count": 897,
   "metadata": {
    "scrolled": false
   },
   "outputs": [
    {
     "data": {
      "text/html": [
       "<div>\n",
       "<style scoped>\n",
       "    .dataframe tbody tr th:only-of-type {\n",
       "        vertical-align: middle;\n",
       "    }\n",
       "\n",
       "    .dataframe tbody tr th {\n",
       "        vertical-align: top;\n",
       "    }\n",
       "\n",
       "    .dataframe thead th {\n",
       "        text-align: right;\n",
       "    }\n",
       "</style>\n",
       "<table border=\"1\" class=\"dataframe\">\n",
       "  <thead>\n",
       "    <tr style=\"text-align: right;\">\n",
       "      <th></th>\n",
       "      <th>duration_sec</th>\n",
       "      <th>bike_id</th>\n",
       "      <th>user_type</th>\n",
       "      <th>member_gender</th>\n",
       "      <th>bike_share_for_all_trip</th>\n",
       "      <th>member_age</th>\n",
       "      <th>start_date</th>\n",
       "      <th>end_date</th>\n",
       "      <th>start_hour</th>\n",
       "      <th>start_day</th>\n",
       "    </tr>\n",
       "  </thead>\n",
       "  <tbody>\n",
       "    <tr>\n",
       "      <th>0</th>\n",
       "      <td>52185</td>\n",
       "      <td>4902</td>\n",
       "      <td>Customer</td>\n",
       "      <td>Male</td>\n",
       "      <td>No</td>\n",
       "      <td>37</td>\n",
       "      <td>2019-02-28</td>\n",
       "      <td>2019-03-01</td>\n",
       "      <td>17</td>\n",
       "      <td>Thursday</td>\n",
       "    </tr>\n",
       "    <tr>\n",
       "      <th>2</th>\n",
       "      <td>61854</td>\n",
       "      <td>5905</td>\n",
       "      <td>Customer</td>\n",
       "      <td>Male</td>\n",
       "      <td>No</td>\n",
       "      <td>49</td>\n",
       "      <td>2019-02-28</td>\n",
       "      <td>2019-03-01</td>\n",
       "      <td>12</td>\n",
       "      <td>Thursday</td>\n",
       "    </tr>\n",
       "    <tr>\n",
       "      <th>4</th>\n",
       "      <td>1585</td>\n",
       "      <td>4898</td>\n",
       "      <td>Subscriber</td>\n",
       "      <td>Male</td>\n",
       "      <td>Yes</td>\n",
       "      <td>47</td>\n",
       "      <td>2019-02-28</td>\n",
       "      <td>2019-03-01</td>\n",
       "      <td>23</td>\n",
       "      <td>Thursday</td>\n",
       "    </tr>\n",
       "    <tr>\n",
       "      <th>6</th>\n",
       "      <td>1147</td>\n",
       "      <td>3803</td>\n",
       "      <td>Subscriber</td>\n",
       "      <td>Female</td>\n",
       "      <td>No</td>\n",
       "      <td>38</td>\n",
       "      <td>2019-02-28</td>\n",
       "      <td>2019-03-01</td>\n",
       "      <td>23</td>\n",
       "      <td>Thursday</td>\n",
       "    </tr>\n",
       "    <tr>\n",
       "      <th>7</th>\n",
       "      <td>1615</td>\n",
       "      <td>6329</td>\n",
       "      <td>Subscriber</td>\n",
       "      <td>Male</td>\n",
       "      <td>No</td>\n",
       "      <td>32</td>\n",
       "      <td>2019-02-28</td>\n",
       "      <td>2019-03-01</td>\n",
       "      <td>23</td>\n",
       "      <td>Thursday</td>\n",
       "    </tr>\n",
       "  </tbody>\n",
       "</table>\n",
       "</div>"
      ],
      "text/plain": [
       "   duration_sec  bike_id   user_type member_gender bike_share_for_all_trip  \\\n",
       "0         52185     4902    Customer          Male                      No   \n",
       "2         61854     5905    Customer          Male                      No   \n",
       "4          1585     4898  Subscriber          Male                     Yes   \n",
       "6          1147     3803  Subscriber        Female                      No   \n",
       "7          1615     6329  Subscriber          Male                      No   \n",
       "\n",
       "   member_age start_date   end_date  start_hour start_day  \n",
       "0          37 2019-02-28 2019-03-01          17  Thursday  \n",
       "2          49 2019-02-28 2019-03-01          12  Thursday  \n",
       "4          47 2019-02-28 2019-03-01          23  Thursday  \n",
       "6          38 2019-02-28 2019-03-01          23  Thursday  \n",
       "7          32 2019-02-28 2019-03-01          23  Thursday  "
      ]
     },
     "execution_count": 897,
     "metadata": {},
     "output_type": "execute_result"
    }
   ],
   "source": [
    "df_clean.head()"
   ]
  },
  {
   "cell_type": "code",
   "execution_count": 898,
   "metadata": {
    "scrolled": true
   },
   "outputs": [
    {
     "name": "stdout",
     "output_type": "stream",
     "text": [
      "<class 'pandas.core.frame.DataFrame'>\n",
      "Int64Index: 166598 entries, 0 to 183411\n",
      "Data columns (total 10 columns):\n",
      " #   Column                   Non-Null Count   Dtype         \n",
      "---  ------                   --------------   -----         \n",
      " 0   duration_sec             166598 non-null  int64         \n",
      " 1   bike_id                  166598 non-null  int64         \n",
      " 2   user_type                166598 non-null  object        \n",
      " 3   member_gender            166598 non-null  object        \n",
      " 4   bike_share_for_all_trip  166598 non-null  object        \n",
      " 5   member_age               166598 non-null  int64         \n",
      " 6   start_date               166598 non-null  datetime64[ns]\n",
      " 7   end_date                 166598 non-null  datetime64[ns]\n",
      " 8   start_hour               166598 non-null  int64         \n",
      " 9   start_day                166598 non-null  object        \n",
      "dtypes: datetime64[ns](2), int64(4), object(4)\n",
      "memory usage: 14.0+ MB\n"
     ]
    }
   ],
   "source": [
    "df_clean.info()"
   ]
  },
  {
   "cell_type": "code",
   "execution_count": 899,
   "metadata": {},
   "outputs": [],
   "source": [
    "##### duration_sec is in seconds\n",
    "##### distribution for duration_sec has long tail"
   ]
  },
  {
   "cell_type": "markdown",
   "metadata": {},
   "source": [
    "###### Define"
   ]
  },
  {
   "cell_type": "markdown",
   "metadata": {},
   "source": [
    "Change duration to minutes and drop duration_sec. Remove long tail for duration distribution."
   ]
  },
  {
   "cell_type": "markdown",
   "metadata": {},
   "source": [
    "###### Code"
   ]
  },
  {
   "cell_type": "code",
   "execution_count": 900,
   "metadata": {},
   "outputs": [],
   "source": [
    "# change duration_sec to minute\n",
    "df_clean['duration_minute'] = df_clean['duration_sec']/60\n",
    "\n",
    "# drop duration_sec\n",
    "df_clean = df_clean.drop(['duration_sec'], axis = 1)"
   ]
  },
  {
   "cell_type": "code",
   "execution_count": 901,
   "metadata": {},
   "outputs": [
    {
     "data": {
      "image/png": "[encoded data removed]",
      "text/plain": [
       "<Figure size 576x360 with 1 Axes>"
      ]
     },
     "metadata": {
      "needs_background": "light"
     },
     "output_type": "display_data"
    }
   ],
   "source": [
    "# duration_minute on log scale due to long tail\n",
    "log_binsize = 0.025\n",
    "bins = 10 ** np.arange(0, np.log10(df_clean['duration_minute'].max())+log_binsize, log_binsize)\n",
    "plt.figure(figsize=[8, 5])\n",
    "plt.hist(data = df_clean, x = 'duration_minute', bins = bins)\n",
    "plt.xscale('log')\n",
    "plt.xticks([1, 2, 5, 10, 20, 50, 100, 200, 500, 1000, 2000], [1, 2, 5, 10, 20, 50, 100, 200, 500, 1000, 2000])\n",
    "plt.show()"
   ]
  },
  {
   "cell_type": "code",
   "execution_count": 902,
   "metadata": {},
   "outputs": [],
   "source": [
    "# drop trips longer than 70 minutes to remove long tail and get closer to normal distribution\n",
    "df_clean = df_clean.query('duration_minute < 70')"
   ]
  },
  {
   "cell_type": "markdown",
   "metadata": {},
   "source": [
    "###### Test"
   ]
  },
  {
   "cell_type": "code",
   "execution_count": 903,
   "metadata": {},
   "outputs": [
    {
     "data": {
      "text/html": [
       "<div>\n",
       "<style scoped>\n",
       "    .dataframe tbody tr th:only-of-type {\n",
       "        vertical-align: middle;\n",
       "    }\n",
       "\n",
       "    .dataframe tbody tr th {\n",
       "        vertical-align: top;\n",
       "    }\n",
       "\n",
       "    .dataframe thead th {\n",
       "        text-align: right;\n",
       "    }\n",
       "</style>\n",
       "<table border=\"1\" class=\"dataframe\">\n",
       "  <thead>\n",
       "    <tr style=\"text-align: right;\">\n",
       "      <th></th>\n",
       "      <th>bike_id</th>\n",
       "      <th>user_type</th>\n",
       "      <th>member_gender</th>\n",
       "      <th>bike_share_for_all_trip</th>\n",
       "      <th>member_age</th>\n",
       "      <th>start_date</th>\n",
       "      <th>end_date</th>\n",
       "      <th>start_hour</th>\n",
       "      <th>start_day</th>\n",
       "      <th>duration_minute</th>\n",
       "    </tr>\n",
       "  </thead>\n",
       "  <tbody>\n",
       "    <tr>\n",
       "      <th>4</th>\n",
       "      <td>4898</td>\n",
       "      <td>Subscriber</td>\n",
       "      <td>Male</td>\n",
       "      <td>Yes</td>\n",
       "      <td>47</td>\n",
       "      <td>2019-02-28</td>\n",
       "      <td>2019-03-01</td>\n",
       "      <td>23</td>\n",
       "      <td>Thursday</td>\n",
       "      <td>26.416667</td>\n",
       "    </tr>\n",
       "    <tr>\n",
       "      <th>6</th>\n",
       "      <td>3803</td>\n",
       "      <td>Subscriber</td>\n",
       "      <td>Female</td>\n",
       "      <td>No</td>\n",
       "      <td>38</td>\n",
       "      <td>2019-02-28</td>\n",
       "      <td>2019-03-01</td>\n",
       "      <td>23</td>\n",
       "      <td>Thursday</td>\n",
       "      <td>19.116667</td>\n",
       "    </tr>\n",
       "    <tr>\n",
       "      <th>7</th>\n",
       "      <td>6329</td>\n",
       "      <td>Subscriber</td>\n",
       "      <td>Male</td>\n",
       "      <td>No</td>\n",
       "      <td>32</td>\n",
       "      <td>2019-02-28</td>\n",
       "      <td>2019-03-01</td>\n",
       "      <td>23</td>\n",
       "      <td>Thursday</td>\n",
       "      <td>26.916667</td>\n",
       "    </tr>\n",
       "    <tr>\n",
       "      <th>9</th>\n",
       "      <td>6488</td>\n",
       "      <td>Subscriber</td>\n",
       "      <td>Male</td>\n",
       "      <td>No</td>\n",
       "      <td>29</td>\n",
       "      <td>2019-02-28</td>\n",
       "      <td>2019-03-01</td>\n",
       "      <td>23</td>\n",
       "      <td>Thursday</td>\n",
       "      <td>17.483333</td>\n",
       "    </tr>\n",
       "    <tr>\n",
       "      <th>10</th>\n",
       "      <td>5318</td>\n",
       "      <td>Subscriber</td>\n",
       "      <td>Female</td>\n",
       "      <td>Yes</td>\n",
       "      <td>25</td>\n",
       "      <td>2019-02-28</td>\n",
       "      <td>2019-03-01</td>\n",
       "      <td>23</td>\n",
       "      <td>Thursday</td>\n",
       "      <td>7.633333</td>\n",
       "    </tr>\n",
       "  </tbody>\n",
       "</table>\n",
       "</div>"
      ],
      "text/plain": [
       "    bike_id   user_type member_gender bike_share_for_all_trip  member_age  \\\n",
       "4      4898  Subscriber          Male                     Yes          47   \n",
       "6      3803  Subscriber        Female                      No          38   \n",
       "7      6329  Subscriber          Male                      No          32   \n",
       "9      6488  Subscriber          Male                      No          29   \n",
       "10     5318  Subscriber        Female                     Yes          25   \n",
       "\n",
       "   start_date   end_date  start_hour start_day  duration_minute  \n",
       "4  2019-02-28 2019-03-01          23  Thursday        26.416667  \n",
       "6  2019-02-28 2019-03-01          23  Thursday        19.116667  \n",
       "7  2019-02-28 2019-03-01          23  Thursday        26.916667  \n",
       "9  2019-02-28 2019-03-01          23  Thursday        17.483333  \n",
       "10 2019-02-28 2019-03-01          23  Thursday         7.633333  "
      ]
     },
     "execution_count": 903,
     "metadata": {},
     "output_type": "execute_result"
    }
   ],
   "source": [
    "# check for duration_minute\n",
    "df_clean.head()"
   ]
  },
  {
   "cell_type": "code",
   "execution_count": 904,
   "metadata": {},
   "outputs": [
    {
     "data": {
      "image/png": "[encoded data removed]",
      "text/plain": [
       "<Figure size 576x360 with 1 Axes>"
      ]
     },
     "metadata": {
      "needs_background": "light"
     },
     "output_type": "display_data"
    }
   ],
   "source": [
    "# trip distribution by duration on log scale after cleaning\n",
    "log_binsize = 0.025\n",
    "bins = 10 ** np.arange(0, np.log10(df_clean['duration_minute'].max())+log_binsize, log_binsize)\n",
    "plt.figure(figsize=[8, 5])\n",
    "plt.hist(data = df_clean, x = 'duration_minute', bins = bins)\n",
    "plt.xscale('log')\n",
    "plt.xticks([1, 2, 5, 10, 20, 50, 80], [1, 2, 5, 10, 20, 50, 80])\n",
    "plt.show()"
   ]
  },
  {
   "cell_type": "markdown",
   "metadata": {},
   "source": [
    "##### duration_sec is integer (now: duration_minute)\n",
    "##### user_type is object\n",
    "##### member_gender is object\n",
    "##### bike_id is integer"
   ]
  },
  {
   "cell_type": "markdown",
   "metadata": {},
   "source": [
    "###### Define"
   ]
  },
  {
   "cell_type": "markdown",
   "metadata": {},
   "source": [
    "Set datatypes by astype."
   ]
  },
  {
   "cell_type": "markdown",
   "metadata": {},
   "source": [
    "###### Code"
   ]
  },
  {
   "cell_type": "code",
   "execution_count": 905,
   "metadata": {},
   "outputs": [],
   "source": [
    "# set datatypes\n",
    "df_clean['user_type'] = df_clean['user_type'].astype('category')\n",
    "df_clean['member_gender'] = df_clean['member_gender'].astype('category')\n",
    "df_clean['bike_id'] = df_clean['bike_id'].astype(str)"
   ]
  },
  {
   "cell_type": "markdown",
   "metadata": {},
   "source": [
    "###### Test"
   ]
  },
  {
   "cell_type": "code",
   "execution_count": 906,
   "metadata": {},
   "outputs": [
    {
     "data": {
      "text/html": [
       "<div>\n",
       "<style scoped>\n",
       "    .dataframe tbody tr th:only-of-type {\n",
       "        vertical-align: middle;\n",
       "    }\n",
       "\n",
       "    .dataframe tbody tr th {\n",
       "        vertical-align: top;\n",
       "    }\n",
       "\n",
       "    .dataframe thead th {\n",
       "        text-align: right;\n",
       "    }\n",
       "</style>\n",
       "<table border=\"1\" class=\"dataframe\">\n",
       "  <thead>\n",
       "    <tr style=\"text-align: right;\">\n",
       "      <th></th>\n",
       "      <th>bike_id</th>\n",
       "      <th>user_type</th>\n",
       "      <th>member_gender</th>\n",
       "      <th>bike_share_for_all_trip</th>\n",
       "      <th>member_age</th>\n",
       "      <th>start_date</th>\n",
       "      <th>end_date</th>\n",
       "      <th>start_hour</th>\n",
       "      <th>start_day</th>\n",
       "      <th>duration_minute</th>\n",
       "    </tr>\n",
       "  </thead>\n",
       "  <tbody>\n",
       "    <tr>\n",
       "      <th>4</th>\n",
       "      <td>4898</td>\n",
       "      <td>Subscriber</td>\n",
       "      <td>Male</td>\n",
       "      <td>Yes</td>\n",
       "      <td>47</td>\n",
       "      <td>2019-02-28</td>\n",
       "      <td>2019-03-01</td>\n",
       "      <td>23</td>\n",
       "      <td>Thursday</td>\n",
       "      <td>26.416667</td>\n",
       "    </tr>\n",
       "    <tr>\n",
       "      <th>6</th>\n",
       "      <td>3803</td>\n",
       "      <td>Subscriber</td>\n",
       "      <td>Female</td>\n",
       "      <td>No</td>\n",
       "      <td>38</td>\n",
       "      <td>2019-02-28</td>\n",
       "      <td>2019-03-01</td>\n",
       "      <td>23</td>\n",
       "      <td>Thursday</td>\n",
       "      <td>19.116667</td>\n",
       "    </tr>\n",
       "    <tr>\n",
       "      <th>7</th>\n",
       "      <td>6329</td>\n",
       "      <td>Subscriber</td>\n",
       "      <td>Male</td>\n",
       "      <td>No</td>\n",
       "      <td>32</td>\n",
       "      <td>2019-02-28</td>\n",
       "      <td>2019-03-01</td>\n",
       "      <td>23</td>\n",
       "      <td>Thursday</td>\n",
       "      <td>26.916667</td>\n",
       "    </tr>\n",
       "    <tr>\n",
       "      <th>9</th>\n",
       "      <td>6488</td>\n",
       "      <td>Subscriber</td>\n",
       "      <td>Male</td>\n",
       "      <td>No</td>\n",
       "      <td>29</td>\n",
       "      <td>2019-02-28</td>\n",
       "      <td>2019-03-01</td>\n",
       "      <td>23</td>\n",
       "      <td>Thursday</td>\n",
       "      <td>17.483333</td>\n",
       "    </tr>\n",
       "    <tr>\n",
       "      <th>10</th>\n",
       "      <td>5318</td>\n",
       "      <td>Subscriber</td>\n",
       "      <td>Female</td>\n",
       "      <td>Yes</td>\n",
       "      <td>25</td>\n",
       "      <td>2019-02-28</td>\n",
       "      <td>2019-03-01</td>\n",
       "      <td>23</td>\n",
       "      <td>Thursday</td>\n",
       "      <td>7.633333</td>\n",
       "    </tr>\n",
       "  </tbody>\n",
       "</table>\n",
       "</div>"
      ],
      "text/plain": [
       "   bike_id   user_type member_gender bike_share_for_all_trip  member_age  \\\n",
       "4     4898  Subscriber          Male                     Yes          47   \n",
       "6     3803  Subscriber        Female                      No          38   \n",
       "7     6329  Subscriber          Male                      No          32   \n",
       "9     6488  Subscriber          Male                      No          29   \n",
       "10    5318  Subscriber        Female                     Yes          25   \n",
       "\n",
       "   start_date   end_date  start_hour start_day  duration_minute  \n",
       "4  2019-02-28 2019-03-01          23  Thursday        26.416667  \n",
       "6  2019-02-28 2019-03-01          23  Thursday        19.116667  \n",
       "7  2019-02-28 2019-03-01          23  Thursday        26.916667  \n",
       "9  2019-02-28 2019-03-01          23  Thursday        17.483333  \n",
       "10 2019-02-28 2019-03-01          23  Thursday         7.633333  "
      ]
     },
     "execution_count": 906,
     "metadata": {},
     "output_type": "execute_result"
    }
   ],
   "source": [
    "df_clean.head()"
   ]
  },
  {
   "cell_type": "code",
   "execution_count": 907,
   "metadata": {},
   "outputs": [
    {
     "name": "stdout",
     "output_type": "stream",
     "text": [
      "<class 'pandas.core.frame.DataFrame'>\n",
      "Int64Index: 165558 entries, 4 to 183411\n",
      "Data columns (total 10 columns):\n",
      " #   Column                   Non-Null Count   Dtype         \n",
      "---  ------                   --------------   -----         \n",
      " 0   bike_id                  165558 non-null  object        \n",
      " 1   user_type                165558 non-null  category      \n",
      " 2   member_gender            165558 non-null  category      \n",
      " 3   bike_share_for_all_trip  165558 non-null  object        \n",
      " 4   member_age               165558 non-null  int64         \n",
      " 5   start_date               165558 non-null  datetime64[ns]\n",
      " 6   end_date                 165558 non-null  datetime64[ns]\n",
      " 7   start_hour               165558 non-null  int64         \n",
      " 8   start_day                165558 non-null  object        \n",
      " 9   duration_minute          165558 non-null  float64       \n",
      "dtypes: category(2), datetime64[ns](2), float64(1), int64(2), object(3)\n",
      "memory usage: 11.7+ MB\n"
     ]
    }
   ],
   "source": [
    "df_clean.info()"
   ]
  },
  {
   "cell_type": "markdown",
   "metadata": {},
   "source": [
    "### Structure of dataset\n",
    "\n",
    "The Ford GoBike System data set includes information about individual rides made in a bike-sharing system covering the greater San Francisco Bay area in February 2019. The original data contains 183412 entries and 16 columns with a variaty of information regarding durations, start and end times, start and end stations, bike ids, user types, members birth years, member genders and bike share options. After cleaning the dataset contains 166598 entries and 9 columns for further analysis:\n",
    "\n",
    "Usage information:\n",
    "\n",
    "- start_date: start date of trip\n",
    "- end_date: end date of trip\n",
    "- start_hour: start hour of trip\n",
    "- start_day: start day of trip\n",
    "- duration_minute: duration of trip in minutes\n",
    "\n",
    "Member information:\n",
    "\n",
    "- bike_id: id of bike\n",
    "- user_type: customer or subscriber\n",
    "- member_gender: male or female\n",
    "- member_age: the age of the members in years\n",
    "- bike_share_for_all_trip: members enrolled in the bike share for all program for low-income residents\n",
    "\n",
    "\n",
    "### Main feature of interest \n",
    "\n",
    "The main feature of interest lies in analyzing the riding behavior of members and customers. Do the two target groups make different use of the service and, if so, for what reasons?\n",
    "\n",
    "### Features in the dataset that will help to support investigation into  feature of interest\n",
    "\n",
    "The usage information will help identify possible patterns of behavior. The member information will provide further insight into how to interpret these patterns for the two target groups."
   ]
  },
  {
   "cell_type": "markdown",
   "metadata": {},
   "source": [
    "<a id=\"univariate\"></a>\n",
    "## Univariate Exploration\n",
    "\n",
    "Investigating distributions of individual variables to identify possible patterns of behavior."
   ]
  },
  {
   "cell_type": "code",
   "execution_count": 908,
   "metadata": {
    "scrolled": false
   },
   "outputs": [
    {
     "data": {
      "image/png": "[encoded data removed]",
      "text/plain": [
       "<Figure size 576x360 with 1 Axes>"
      ]
     },
     "metadata": {
      "needs_background": "light"
     },
     "output_type": "display_data"
    }
   ],
   "source": [
    "# trip distribution by duration\n",
    "log_binsize = 0.025\n",
    "bins = 10 ** np.arange(0, np.log10(df_clean['duration_minute'].max())+log_binsize, log_binsize)\n",
    "plt.figure(figsize=[8, 5])\n",
    "plt.hist(data = df_clean, x = 'duration_minute', bins = bins)\n",
    "plt.xscale('log')\n",
    "plt.xticks([1, 2, 5, 10, 20, 50, 80], [1, 2, 5, 10, 20, 50, 80])\n",
    "plt.show()"
   ]
  },
  {
   "cell_type": "markdown",
   "metadata": {},
   "source": [
    "Trips are usually rather short. On average, they last 10 minutes. Most trips are between 4 to 20 minutes."
   ]
  },
  {
   "cell_type": "code",
   "execution_count": 909,
   "metadata": {
    "scrolled": false
   },
   "outputs": [
    {
     "data": {
      "image/png": "[encoded data removed]",
      "text/plain": [
       "<Figure size 576x360 with 1 Axes>"
      ]
     },
     "metadata": {
      "needs_background": "light"
     },
     "output_type": "display_data"
    }
   ],
   "source": [
    "# trip distribution by hours\n",
    "plt.figure(figsize = [8, 5])\n",
    "sb.countplot(data=df_clean, x='start_hour', color=base_color);"
   ]
  },
  {
   "cell_type": "markdown",
   "metadata": {},
   "source": [
    "Between 7-9am and 4-6pm, most trips are made."
   ]
  },
  {
   "cell_type": "code",
   "execution_count": 910,
   "metadata": {
    "scrolled": true
   },
   "outputs": [
    {
     "data": {
      "image/png": "[encoded data removed]",
      "text/plain": [
       "<Figure size 576x360 with 1 Axes>"
      ]
     },
     "metadata": {
      "needs_background": "light"
     },
     "output_type": "display_data"
    }
   ],
   "source": [
    "# convert start_day into ordered categorical type\n",
    "weekday = ['Monday', 'Tuesday', 'Wednesday', 'Thursday', 'Friday', 'Saturday', 'Sunday']\n",
    "weekday_type = pd.api.types.CategoricalDtype(ordered=True, categories=weekday)\n",
    "df_clean['start_day'] = df_clean['start_day'].astype(weekday_type)\n",
    "\n",
    "# trip distribution by day\n",
    "plt.figure(figsize = [8, 5])\n",
    "sb.countplot(data=df_clean, x='start_day', color=base_color);"
   ]
  },
  {
   "cell_type": "markdown",
   "metadata": {},
   "source": [
    "More trips occur during the week than on weekends."
   ]
  },
  {
   "cell_type": "code",
   "execution_count": 911,
   "metadata": {
    "scrolled": true
   },
   "outputs": [
    {
     "data": {
      "image/png": "[encoded data removed]",
      "text/plain": [
       "<Figure size 576x360 with 1 Axes>"
      ]
     },
     "metadata": {
      "needs_background": "light"
     },
     "output_type": "display_data"
    }
   ],
   "source": [
    "# trip distribution by gender\n",
    "plt.figure(figsize = [8, 5])\n",
    "sb.countplot(data=df_clean, x='member_gender', color=base_color);"
   ]
  },
  {
   "cell_type": "markdown",
   "metadata": {},
   "source": [
    "Trips are made significantly more often by men."
   ]
  },
  {
   "cell_type": "code",
   "execution_count": 912,
   "metadata": {},
   "outputs": [
    {
     "data": {
      "image/png": "[encoded data removed]",
      "text/plain": [
       "<Figure size 576x360 with 1 Axes>"
      ]
     },
     "metadata": {
      "needs_background": "light"
     },
     "output_type": "display_data"
    }
   ],
   "source": [
    "# trip distribution by user type\n",
    "plt.figure(figsize = [8, 5])\n",
    "sb.countplot(data=df_clean, x='user_type', color=base_color);"
   ]
  },
  {
   "cell_type": "markdown",
   "metadata": {},
   "source": [
    "Rides are almost predominantly provided by subscribers."
   ]
  },
  {
   "cell_type": "code",
   "execution_count": 913,
   "metadata": {},
   "outputs": [
    {
     "data": {
      "image/png": "[encoded data removed]",
      "text/plain": [
       "<Figure size 576x360 with 1 Axes>"
      ]
     },
     "metadata": {
      "needs_background": "light"
     },
     "output_type": "display_data"
    }
   ],
   "source": [
    "# trip distribution by enrollment\n",
    "plt.figure(figsize = [8, 5])\n",
    "sb.countplot(data=df_clean, x='bike_share_for_all_trip', color=base_color);"
   ]
  },
  {
   "cell_type": "markdown",
   "metadata": {},
   "source": [
    "Most drivers pay for the service themselves. "
   ]
  },
  {
   "cell_type": "code",
   "execution_count": 914,
   "metadata": {},
   "outputs": [
    {
     "data": {
      "image/png": "[encoded data removed]",
      "text/plain": [
       "<Figure size 576x360 with 1 Axes>"
      ]
     },
     "metadata": {
      "needs_background": "light"
     },
     "output_type": "display_data"
    }
   ],
   "source": [
    "# distribution of age\n",
    "plt.figure(figsize = [8, 5])\n",
    "sb.violinplot(data = df_clean, y = 'member_age');"
   ]
  },
  {
   "cell_type": "markdown",
   "metadata": {},
   "source": [
    "Riders are generally between 30-40 years old. Old riders are clearly in the minority."
   ]
  },
  {
   "cell_type": "markdown",
   "metadata": {},
   "source": [
    "### Discussion of distribution of variable of interest\n",
    "\n",
    "- Trips are usually rather short. On average, they last 10 minutes. Most trips are between 4 to 20 minutes.\n",
    "- Between 7-9am and 4-6pm, most trips are made.\n",
    "- More trips occur during the week than on weekends.\n",
    "- Trips are made significantly more often by men.\n",
    "- Rides are almost predominantly provided by subscribers.\n",
    "- Most drivers pay for the service themselves. \n",
    "- Riders are generally between 30-40 years old. Old riders are clearly in the minority. \n",
    "\n",
    "The data suggest that the service is predominantly paid by young and middle-aged men and regularly used for shorter trips during the week at the beginning and end of work hours. The service appears to be used less as a casual activity and more as a way to commute to work each day in february. This will be examined in more detail in the next step.\n",
    "\n",
    "### Performed operations on the data to tidy, adjust, or change the form of the data\n",
    "\n",
    "Because of the data wrangling process, there wasn't much need to clean or change the data. I only convert start_day to an ordered categorical type to show the days of the week in the correct order."
   ]
  },
  {
   "cell_type": "markdown",
   "metadata": {},
   "source": [
    "<a id=\"bivariate\"></a>\n",
    "## Bivariate Exploration\n",
    "\n",
    "Investigate relationships between pairs of variables to interpret these patterns."
   ]
  },
  {
   "cell_type": "code",
   "execution_count": 915,
   "metadata": {
    "scrolled": false
   },
   "outputs": [
    {
     "data": {
      "image/png": "[encoded data removed]",
      "text/plain": [
       "<Figure size 576x360 with 1 Axes>"
      ]
     },
     "metadata": {
      "needs_background": "light"
     },
     "output_type": "display_data"
    }
   ],
   "source": [
    "# trip distribution by weekday for subscriber and customer\n",
    "plt.figure(figsize = [8, 5])\n",
    "sb.countplot(data=df_clean, x='start_day', hue='user_type', palette = 'Blues');"
   ]
  },
  {
   "cell_type": "markdown",
   "metadata": {},
   "source": [
    "Trips by subscribers decrease by almost half on weekends. Trips by customers remain almost constant over the weekdays."
   ]
  },
  {
   "cell_type": "code",
   "execution_count": 916,
   "metadata": {
    "scrolled": true
   },
   "outputs": [
    {
     "data": {
      "image/png": "[encoded data removed]",
      "text/plain": [
       "<Figure size 576x360 with 1 Axes>"
      ]
     },
     "metadata": {
      "needs_background": "light"
     },
     "output_type": "display_data"
    }
   ],
   "source": [
    "# trip distribution by weekday for gender\n",
    "plt.figure(figsize = [8, 5])\n",
    "sb.countplot(data=df_clean, x='start_day', hue='member_gender', palette = 'Blues');"
   ]
  },
  {
   "cell_type": "markdown",
   "metadata": {},
   "source": [
    "Even though more men use the service, there is little difference in behavior between women and men across days of the week."
   ]
  },
  {
   "cell_type": "code",
   "execution_count": 917,
   "metadata": {},
   "outputs": [
    {
     "data": {
      "image/png": "[encoded data removed]",
      "text/plain": [
       "<Figure size 576x576 with 1 Axes>"
      ]
     },
     "metadata": {
      "needs_background": "light"
     },
     "output_type": "display_data"
    }
   ],
   "source": [
    "# trip distribution by weekday for age\n",
    "plt.figure(figsize = [8, 8])\n",
    "sb.boxplot(data=df_clean, x='start_day', y='member_age', color=base_color);"
   ]
  },
  {
   "cell_type": "markdown",
   "metadata": {},
   "source": [
    "During the week, the age remains constant between 30 and 40. Interestingly, the age of users decreases on weekends. However, there is a larger number of outliers with higher age on weekends."
   ]
  },
  {
   "cell_type": "code",
   "execution_count": 918,
   "metadata": {
    "scrolled": false
   },
   "outputs": [
    {
     "data": {
      "image/png": "[encoded data removed]",
      "text/plain": [
       "<Figure size 576x360 with 1 Axes>"
      ]
     },
     "metadata": {
      "needs_background": "light"
     },
     "output_type": "display_data"
    }
   ],
   "source": [
    "# trip distribution by hours for subscribers and customer\n",
    "plt.figure(figsize = [8, 5])\n",
    "sb.countplot(data=df_clean, x='start_hour', hue='user_type', palette = 'Blues');"
   ]
  },
  {
   "cell_type": "markdown",
   "metadata": {},
   "source": [
    "Both subscriber and customer use the service most heavily between 7-9am and 4-7pm."
   ]
  },
  {
   "cell_type": "code",
   "execution_count": 919,
   "metadata": {
    "scrolled": false
   },
   "outputs": [
    {
     "data": {
      "image/png": "[encoded data removed]",
      "text/plain": [
       "<Figure size 576x360 with 1 Axes>"
      ]
     },
     "metadata": {
      "needs_background": "light"
     },
     "output_type": "display_data"
    }
   ],
   "source": [
    "# trip distribution by hours for gender\n",
    "plt.figure(figsize = [8, 5])\n",
    "sb.countplot(data=df_clean, x='start_hour', hue='member_gender', palette = 'Blues');"
   ]
  },
  {
   "cell_type": "markdown",
   "metadata": {},
   "source": [
    "Both women and men use the service most heavily between 7-9am and 4-6pm."
   ]
  },
  {
   "cell_type": "code",
   "execution_count": 920,
   "metadata": {},
   "outputs": [
    {
     "data": {
      "image/png": "[encoded data removed]",
      "text/plain": [
       "<Figure size 576x576 with 1 Axes>"
      ]
     },
     "metadata": {
      "needs_background": "light"
     },
     "output_type": "display_data"
    }
   ],
   "source": [
    "# trip distribution by hours for age\n",
    "plt.figure(figsize = [8, 8])\n",
    "sb.boxplot(data=df_clean, x='start_hour', y='member_age', color=base_color);"
   ]
  },
  {
   "cell_type": "markdown",
   "metadata": {},
   "source": [
    "Before, after, and between 7-9am and 4-6pm, users tend to get younger. But especially from 6-12pm there are many outliers."
   ]
  },
  {
   "cell_type": "code",
   "execution_count": 921,
   "metadata": {
    "scrolled": true
   },
   "outputs": [
    {
     "data": {
      "image/png": "[encoded data removed]",
      "text/plain": [
       "<Figure size 576x576 with 1 Axes>"
      ]
     },
     "metadata": {
      "needs_background": "light"
     },
     "output_type": "display_data"
    }
   ],
   "source": [
    "# trip duration for subscriber and customer\n",
    "plt.figure(figsize = [8, 8])\n",
    "sb.violinplot(data=df_clean, x='user_type', y='duration_minute', color=base_color, inner='quartile');"
   ]
  },
  {
   "cell_type": "code",
   "execution_count": 922,
   "metadata": {},
   "outputs": [
    {
     "data": {
      "image/png": "[encoded data removed]",
      "text/plain": [
       "<Figure size 432x288 with 1 Axes>"
      ]
     },
     "metadata": {
      "needs_background": "light"
     },
     "output_type": "display_data"
    }
   ],
   "source": [
    "# average trip duration for subscriber and customer\n",
    "df_clean.groupby('user_type')['duration_minute'].mean().plot(kind = 'barh', color = base_color);"
   ]
  },
  {
   "cell_type": "markdown",
   "metadata": {},
   "source": [
    "Subscribers take shorter trips more frequently than customers. Customers, on the other hand, sometimes make fewer but longer trips. However, on average, trip times between participants and customers do not differ much, but around 5 minutes."
   ]
  },
  {
   "cell_type": "code",
   "execution_count": 923,
   "metadata": {
    "scrolled": true
   },
   "outputs": [
    {
     "data": {
      "image/png": "[encoded data removed]",
      "text/plain": [
       "<Figure size 576x576 with 1 Axes>"
      ]
     },
     "metadata": {
      "needs_background": "light"
     },
     "output_type": "display_data"
    }
   ],
   "source": [
    "# trip duration by gender\n",
    "plt.figure(figsize = [8, 8])\n",
    "sb.violinplot(data=df_clean, x='member_gender', y='duration_minute', color=base_color, inner='quartile');"
   ]
  },
  {
   "cell_type": "markdown",
   "metadata": {},
   "source": [
    "Regarding trip duration there are hardly any differences in behavior between women and men."
   ]
  },
  {
   "cell_type": "code",
   "execution_count": 924,
   "metadata": {
    "scrolled": true
   },
   "outputs": [
    {
     "data": {
      "image/png": "[encoded data removed]",
      "text/plain": [
       "<Figure size 576x576 with 1 Axes>"
      ]
     },
     "metadata": {
      "needs_background": "light"
     },
     "output_type": "display_data"
    }
   ],
   "source": [
    "# age distribution for subscriber and customer\n",
    "plt.figure(figsize = [8, 8])\n",
    "sb.violinplot(data=df_clean, x='user_type', y='member_age', color=base_color, inner='quartile');"
   ]
  },
  {
   "cell_type": "markdown",
   "metadata": {},
   "source": [
    "Regarding age distribution there are hardly any differences in behavior between subscriber and customer."
   ]
  },
  {
   "cell_type": "code",
   "execution_count": 925,
   "metadata": {},
   "outputs": [
    {
     "data": {
      "image/png": "[encoded data removed]",
      "text/plain": [
       "<Figure size 576x576 with 1 Axes>"
      ]
     },
     "metadata": {
      "needs_background": "light"
     },
     "output_type": "display_data"
    }
   ],
   "source": [
    "# age distribution by gender\n",
    "plt.figure(figsize = [8, 8])\n",
    "sb.violinplot(data=df_clean, x='member_gender', y='member_age', color=base_color, inner='quartile');"
   ]
  },
  {
   "cell_type": "markdown",
   "metadata": {},
   "source": [
    "Regarding age distribution there are hardly any differences in behavior between women and men."
   ]
  },
  {
   "cell_type": "code",
   "execution_count": 926,
   "metadata": {
    "scrolled": true
   },
   "outputs": [
    {
     "data": {
      "image/png": "[encoded data removed]",
      "text/plain": [
       "<Figure size 576x360 with 1 Axes>"
      ]
     },
     "metadata": {
      "needs_background": "light"
     },
     "output_type": "display_data"
    }
   ],
   "source": [
    "# trip distribution by gender for subscriber and customer\n",
    "plt.figure(figsize = [8, 5])\n",
    "sb.countplot(data=df_clean, x='member_gender', hue='user_type', palette = 'Blues');"
   ]
  },
  {
   "cell_type": "markdown",
   "metadata": {},
   "source": [
    "There are significantly more men among both subscribers and customers."
   ]
  },
  {
   "cell_type": "code",
   "execution_count": 927,
   "metadata": {},
   "outputs": [
    {
     "data": {
      "image/png": "[encoded data removed]",
      "text/plain": [
       "<Figure size 576x360 with 1 Axes>"
      ]
     },
     "metadata": {
      "needs_background": "light"
     },
     "output_type": "display_data"
    }
   ],
   "source": [
    "# trip distribution by enrollment for gender\n",
    "plt.figure(figsize = [8, 5])\n",
    "sb.countplot(data=df_clean, x='bike_share_for_all_trip', hue='member_gender', palette = 'Blues');"
   ]
  },
  {
   "cell_type": "markdown",
   "metadata": {},
   "source": [
    "There are significantly more men among bike share enrollments."
   ]
  },
  {
   "cell_type": "code",
   "execution_count": 928,
   "metadata": {},
   "outputs": [
    {
     "data": {
      "image/png": "[encoded data removed]",
      "text/plain": [
       "<Figure size 576x576 with 1 Axes>"
      ]
     },
     "metadata": {
      "needs_background": "light"
     },
     "output_type": "display_data"
    }
   ],
   "source": [
    "plt.figure(figsize = [8, 8])\n",
    "sb.violinplot(data=df_clean, x='bike_share_for_all_trip', y='member_age', color=base_color, inner='quartile');"
   ]
  },
  {
   "cell_type": "markdown",
   "metadata": {},
   "source": [
    "Users of the bike share service are on average under 30 years old."
   ]
  },
  {
   "cell_type": "markdown",
   "metadata": {},
   "source": [
    "### How feature of interest vary with other features in the dataset\n",
    "\n",
    "- Trips by subscribers decrease by almost half on weekends. \n",
    "- Trips by customers remain almost constant over the weekdays.\n",
    "- Both subscriber and customer use the service most heavily between 7-9am and 4-7pm.\n",
    "- Subscribers take shorter trips more frequently than customers. Customers, on the other hand, sometimes make fewer but longer trips. However, on average, trip times between participants and customers do not differ much, but around 5 minutes.\n",
    "- Regarding age distribution there are hardly any differences in behavior between subscriber and customer.\n",
    "- There are significantly more men among both subscribers and customers.\n",
    "\n",
    "Interestingly, the user behavior of subscribers and customers is very similar in terms of usage times, trip length, and age distribution. Customers also seem to use the service primarily for commuting to work in feburary. However, the use of the service by customers does not decrease as much on weekends as it does among subscribers. Customers also take longer trips. The next step is to investigate the behavior of subscribers customers during the weekdays in more detail.\n",
    "\n",
    "\n",
    "### Observation of interesting relationships between the other features\n",
    "\n",
    "- Even though more men use the service, there is little difference in behavior between women and men across days of the week.\n",
    "- Both women and men use the service most heavily between 7-9am and 4-6pm.\n",
    "- Regarding trip duration there are hardly any differences in behavior between women and men.\n",
    "- Regarding age distribution there are hardly any differences in behavior between women and men.\n",
    "- There are significantly more men among bike share enrollments.\n",
    "- During the week, the age remains constant between 30 and 40. Interestingly, the age of users decreases on weekends. However, there is a larger number of outliers with higher age on weekends.\n",
    "- Before, after, and between 7-9am and 4-6pm, users tend to get younger. But especially from 6-12pm there are many outliers.\n",
    "- Users of the bike share service are on average under 30 years old.\n",
    "\n",
    "Although more men use the service, there is little difference in the usage behavior of women and men. Women also seem to use the service primarily for their daily commute to work. Interestingly, age decreases on average at the weekend. However, there are also a large number of upward outliers here."
   ]
  },
  {
   "cell_type": "markdown",
   "metadata": {},
   "source": [
    "<a id=\"multivariate\"></a>\n",
    "## Multivariate Exploration\n",
    "\n",
    "Create plots of three or more variables to investigate data even further. "
   ]
  },
  {
   "cell_type": "code",
   "execution_count": 929,
   "metadata": {},
   "outputs": [
    {
     "data": {
      "image/png": "[encoded data removed]",
      "text/plain": [
       "<Figure size 576x360 with 1 Axes>"
      ]
     },
     "metadata": {
      "needs_background": "light"
     },
     "output_type": "display_data"
    }
   ],
   "source": [
    "# distribution of trip duration for customers and subscribers during weekdays\n",
    "plt.figure(figsize = [8, 5])\n",
    "sb.pointplot(data = df_clean, x = 'start_day', y = 'duration_minute', hue = 'user_type', palette = 'Blues');"
   ]
  },
  {
   "cell_type": "markdown",
   "metadata": {},
   "source": [
    "For both subscribers and customers, trip length increases at the weekend. However, the increase is significantly greater for customers than for subscribers."
   ]
  },
  {
   "cell_type": "code",
   "execution_count": 930,
   "metadata": {},
   "outputs": [
    {
     "data": {
      "image/png": "[encoded data removed]",
      "text/plain": [
       "<Figure size 576x360 with 1 Axes>"
      ]
     },
     "metadata": {
      "needs_background": "light"
     },
     "output_type": "display_data"
    }
   ],
   "source": [
    "# distribution of member age for customers and subscribers during weekdays\n",
    "plt.figure(figsize = [8, 5])\n",
    "sb.pointplot(data = df_clean, x = 'start_day', y = 'member_age', hue = 'user_type', palette = 'Blues');"
   ]
  },
  {
   "cell_type": "markdown",
   "metadata": {},
   "source": [
    "Interestingly, the average age of subscribers and customers drops almost identically at the weekend."
   ]
  },
  {
   "cell_type": "code",
   "execution_count": 931,
   "metadata": {},
   "outputs": [
    {
     "data": {
      "image/png": "[encoded data removed]",
      "text/plain": [
       "<Figure size 864x360 with 2 Axes>"
      ]
     },
     "metadata": {
      "needs_background": "light"
     },
     "output_type": "display_data"
    }
   ],
   "source": [
    "# distribution of usage by weekday and hour for subscriber\n",
    "plt.figure(figsize = [12, 5])\n",
    "subs = df_clean.query('user_type == \"Subscriber\"').groupby(['start_day', 'start_hour']).size().reset_index(name='counts');\n",
    "subs = subs.pivot('start_day', 'start_hour', 'counts')\n",
    "sb.heatmap(subs, cmap = 'YlGnBu');"
   ]
  },
  {
   "cell_type": "markdown",
   "metadata": {},
   "source": [
    "Even though the duration of trips on weekends is increasing, subscribers predominantly use the service during the week to travel to work."
   ]
  },
  {
   "cell_type": "code",
   "execution_count": 932,
   "metadata": {},
   "outputs": [
    {
     "data": {
      "image/png": "[encoded data removed]",
      "text/plain": [
       "<Figure size 864x360 with 2 Axes>"
      ]
     },
     "metadata": {
      "needs_background": "light"
     },
     "output_type": "display_data"
    }
   ],
   "source": [
    "# distribution of usage by weekday and hours for customer\n",
    "plt.figure(figsize = [12, 5])\n",
    "customers = df_clean.query('user_type == \"Customer\"').groupby(['start_day', 'start_hour']).size().reset_index(name='counts');\n",
    "customers = customers.pivot('start_day', 'start_hour', 'counts')\n",
    "sb.heatmap(customers, cmap = 'YlGnBu');"
   ]
  },
  {
   "cell_type": "markdown",
   "metadata": {},
   "source": [
    "Customers use the service not only during the week to go to work, but also from morning to evening on weekends."
   ]
  },
  {
   "cell_type": "markdown",
   "metadata": {},
   "source": [
    "### Features that strengthened each other in terms of looking at feature of interest\n",
    "\n",
    "- For both subscribers and customers, trip length increases at the weekend. However, the increase is significantly greater for customers than for subscribers.\n",
    "- Interestingly, the average age of subscribers and customers drops almost identically at the weekend.\n",
    "- Even though the duration of trips on weekends is increasing, subscribers predominantly use the service during the week to travel to work.\n",
    "- Customers use the service not only during the week to go to work, but also from morning to evening on weekends.\n",
    "\n",
    "Customers and subscribers seem to use the service for the same purpose during the week: commuting to work. At the weekend, however, the usage behavior of the two target groups differs. While usage by subscribers is declining, younger customers in particular use the service at the weekend for medium distances during the day."
   ]
  },
  {
   "cell_type": "code",
   "execution_count": 933,
   "metadata": {},
   "outputs": [],
   "source": [
    "# store df_clean in a seperate dataframe\n",
    "df_clean.to_csv('201902-fordgobike-tripdata_clean.csv', index=False)"
   ]
  }
 ],
 "metadata": {
  "kernelspec": {
   "display_name": "Python 3",
   "language": "python",
   "name": "python3"
  },
  "language_info": {
   "codemirror_mode": {
    "name": "ipython",
    "version": 3
   },
   "file_extension": ".py",
   "mimetype": "text/x-python",
   "name": "python",
   "nbconvert_exporter": "python",
   "pygments_lexer": "ipython3",
   "version": "3.8.5"
  }
 },
 "nbformat": 4,
 "nbformat_minor": 2
}
